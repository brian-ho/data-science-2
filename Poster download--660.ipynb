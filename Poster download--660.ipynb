{
 "cells": [
  {
   "cell_type": "code",
   "execution_count": 1,
   "metadata": {
    "collapsed": true
   },
   "outputs": [],
   "source": [
    "import wget\n",
    "import json\n",
    "import time\n",
    "import tmdbsimple as tmdb\n",
    "tmdb.API_KEY = 'c7b4559008a651ec1173162071aec8e0'\n",
    "from imdb import IMDb\n",
    "import requests\n",
    "import pandas as pd\n",
    "import numpy as np"
   ]
  },
  {
   "cell_type": "code",
   "execution_count": 2,
   "metadata": {
    "collapsed": true
   },
   "outputs": [],
   "source": [
    "payload = {'api_key': 'c7b4559008a651ec1173162071aec8e0'}\n",
    "r = requests.get('https://api.themoviedb.org/3/configuration?', params=payload)\n",
    "config = r.json()"
   ]
  },
  {
   "cell_type": "code",
   "execution_count": 8,
   "metadata": {
    "collapsed": false
   },
   "outputs": [],
   "source": [
    "# load movies for analysis\n",
    "movies = pd.read_csv(\"movies990.csv\")\n",
    "\n",
    "#add row identifier (maybe unnecessary)\n",
    "movies['id'] = range(0, 990)\n",
    "\n",
    "# generate labels\n",
    "labels = np.concatenate((np.repeat(\"Romance\", 330), np.repeat(\"Horror\", 330), np.repeat(\"Scifi\", 330)), axis=0)"
   ]
  },
  {
   "cell_type": "code",
   "execution_count": 11,
   "metadata": {
    "collapsed": false
   },
   "outputs": [],
   "source": [
    "#divide by train/test\n",
    "from sklearn.cross_validation import train_test_split\n",
    "\n",
    "X_train, X_test, y_train, y_test = train_test_split(\n",
    "     movies.iloc[0:660], labels[0:660], test_size=0.40)"
   ]
  },
  {
   "cell_type": "code",
   "execution_count": 15,
   "metadata": {
    "collapsed": false
   },
   "outputs": [],
   "source": [
    "#download posters by url, to train and validation folders (to copy tutorial)\n",
    "\n",
    "#### need to make new local folders, e.g., /train/romance, /validation/horror -- see exact syntax below\n",
    "\n",
    "for i in X_train.id:\n",
    "    poster_path = movies.poster_path[i]\n",
    "    url = \"https://image.tmdb.org/t/p/w185\"\n",
    "    url = url + poster_path\n",
    "    if i < 330:\n",
    "        wget.download(url, \"./Posters 660/Train/Romance/\" + str(i) + \".jpg\" )   #need to make this folder locally\n",
    "    if i >= 330:\n",
    "        wget.download(url, \"./Posters 660/Train/Horror/\" + str(i) + \".jpg\" )   #need to make this folder locally\n",
    "    time.sleep(1)"
   ]
  },
  {
   "cell_type": "code",
   "execution_count": 16,
   "metadata": {
    "collapsed": true
   },
   "outputs": [],
   "source": [
    "for i in X_test.id:\n",
    "    poster_path = movies.poster_path[i]\n",
    "    url = \"https://image.tmdb.org/t/p/w185\"\n",
    "    url = url + poster_path\n",
    "    if i < 330:\n",
    "        wget.download(url, \"./Posters 660/Validation/Romance/\" + str(i) + \".jpg\" )   #need to make this folder locally\n",
    "    if i >= 330:\n",
    "        wget.download(url, \"./Posters 660/Validation/Horror/\" + str(i) + \".jpg\" )   #need to make this folder locally\n",
    "    time.sleep(1)"
   ]
  }
 ],
 "metadata": {
  "anaconda-cloud": {},
  "kernelspec": {
   "display_name": "Python [Root]",
   "language": "python",
   "name": "Python [Root]"
  },
  "language_info": {
   "codemirror_mode": {
    "name": "ipython",
    "version": 2
   },
   "file_extension": ".py",
   "mimetype": "text/x-python",
   "name": "python",
   "nbconvert_exporter": "python",
   "pygments_lexer": "ipython2",
   "version": "2.7.12"
  }
 },
 "nbformat": 4,
 "nbformat_minor": 0
}
