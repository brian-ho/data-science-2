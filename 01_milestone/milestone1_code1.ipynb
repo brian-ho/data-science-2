{
 "cells": [
  {
   "cell_type": "code",
   "execution_count": 1,
   "metadata": {
    "collapsed": false
   },
   "outputs": [],
   "source": [
    "import imdb\n",
    "import httplib\n",
    "import json\n"
   ]
  },
  {
   "cell_type": "code",
   "execution_count": 2,
   "metadata": {
    "collapsed": false
   },
   "outputs": [
    {
     "data": {
      "text/plain": [
       "[{u'id': 28, u'name': u'Action'},\n",
       " {u'id': 12, u'name': u'Adventure'},\n",
       " {u'id': 16, u'name': u'Animation'},\n",
       " {u'id': 35, u'name': u'Comedy'},\n",
       " {u'id': 80, u'name': u'Crime'},\n",
       " {u'id': 99, u'name': u'Documentary'},\n",
       " {u'id': 18, u'name': u'Drama'},\n",
       " {u'id': 10751, u'name': u'Family'},\n",
       " {u'id': 14, u'name': u'Fantasy'},\n",
       " {u'id': 36, u'name': u'History'},\n",
       " {u'id': 27, u'name': u'Horror'},\n",
       " {u'id': 10402, u'name': u'Music'},\n",
       " {u'id': 9648, u'name': u'Mystery'},\n",
       " {u'id': 10749, u'name': u'Romance'},\n",
       " {u'id': 878, u'name': u'Science Fiction'},\n",
       " {u'id': 10770, u'name': u'TV Movie'},\n",
       " {u'id': 53, u'name': u'Thriller'},\n",
       " {u'id': 10752, u'name': u'War'},\n",
       " {u'id': 37, u'name': u'Western'}]"
      ]
     },
     "execution_count": 2,
     "metadata": {},
     "output_type": "execute_result"
    }
   ],
   "source": [
    "### Get the list of genre id and genre names from TMDB\n",
    "\n",
    "conn = httplib.HTTPSConnection(\"api.themoviedb.org\")\n",
    "\n",
    "payload = \"{}\"\n",
    "\n",
    "conn.request(\"GET\", \"/3/genre/movie/list?language=en-US&api_key=f36152ef9bcf77f762135508f9f4e705\", payload)\n",
    "\n",
    "res = conn.getresponse()\n",
    "data = res.read()\n",
    "data=json.loads(data)\n",
    "genres_list = data[\"genres\"]\n",
    "\n",
    "genres_list"
   ]
  },
  {
   "cell_type": "code",
   "execution_count": 3,
   "metadata": {
    "collapsed": false
   },
   "outputs": [],
   "source": [
    "### Search the favorite movie in TMDB and get the genres & poster path\n",
    "\n",
    "conn = httplib.HTTPSConnection(\"api.themoviedb.org\")\n",
    "\n",
    "payload = \"{}\"\n",
    "\n",
    "conn.request(\"GET\", \"/3/search/movie?query=forrest%20gump&api_key=f36152ef9bcf77f762135508f9f4e705\", payload)\n",
    "\n",
    "res = conn.getresponse()\n",
    "data = res.read()\n",
    "data=json.loads(data)\n",
    "\n",
    "genre_id = data[\"results\"][0][\"genre_ids\"]\n",
    "poster_path = data[\"results\"][0][\"poster_path\"]"
   ]
  },
  {
   "cell_type": "code",
   "execution_count": 4,
   "metadata": {
    "collapsed": false
   },
   "outputs": [
    {
     "data": {
      "text/plain": [
       "[u'Comedy', u'Drama', u'Romance']"
      ]
     },
     "execution_count": 4,
     "metadata": {},
     "output_type": "execute_result"
    }
   ],
   "source": [
    "### From genre id to genre names\n",
    "movie_genre=[]\n",
    "for i in genre_id:\n",
    "    for genre in genres_list:\n",
    "        if genre[\"id\"]==i:\n",
    "            movie_genre.append(genre[\"name\"])\n",
    "movie_genre"
   ]
  },
  {
   "cell_type": "code",
   "execution_count": 5,
   "metadata": {
    "collapsed": false
   },
   "outputs": [
    {
     "data": {
      "text/plain": [
       "u'https://image.tmdb.org/t/p/w500/yE5d3BUhE8hCnkMUJOo1QDoOGNz.jpg'"
      ]
     },
     "execution_count": 5,
     "metadata": {},
     "output_type": "execute_result"
    }
   ],
   "source": [
    "### download poster\n",
    "url = \"https://image.tmdb.org/t/p/w500\"\n",
    "url = url + poster_path\n",
    "url"
   ]
  },
  {
   "cell_type": "code",
   "execution_count": 6,
   "metadata": {
    "collapsed": false
   },
   "outputs": [
    {
     "data": {
      "text/plain": [
       "u'.//yE5d3BUhE8hCnkMUJOo1QDoOGNz (1).jpg'"
      ]
     },
     "execution_count": 6,
     "metadata": {},
     "output_type": "execute_result"
    }
   ],
   "source": [
    "import wget\n",
    "wget.download(url,\"./\")\n"
   ]
  },
  {
   "cell_type": "code",
   "execution_count": 7,
   "metadata": {
    "collapsed": false
   },
   "outputs": [
    {
     "data": {
      "text/plain": [
       "[u'Comedy', u'Drama', u'Romance']"
      ]
     },
     "execution_count": 7,
     "metadata": {},
     "output_type": "execute_result"
    }
   ],
   "source": [
    "### Search the favorite movie in IMDB and get the genres information\n",
    "\n",
    "i = imdb.IMDb()\n",
    "movie_list = i.search_movie(\"Forrest Gump\")\n",
    "first_match = movie_list[0]\n",
    "i.update(first_match)\n",
    "first_match[\"genres\"]"
   ]
  },
  {
   "cell_type": "code",
   "execution_count": 8,
   "metadata": {
    "collapsed": false
   },
   "outputs": [
    {
     "data": {
      "text/plain": [
       "{u'Arrival': [u'Drama', u'Science Fiction'],\n",
       " u'Captain America: Civil War': [u'Action', u'Science Fiction'],\n",
       " u'Deadpool': [u'Action', u'Adventure', u'Comedy', u'Romance'],\n",
       " u'Doctor Strange': [u'Action', u'Adventure', u'Fantasy', u'Science Fiction'],\n",
       " u'Fantastic Beasts and Where to Find Them': [u'Adventure',\n",
       "  u'Action',\n",
       "  u'Fantasy'],\n",
       " u'Finding Dory': [u'Adventure', u'Animation', u'Comedy', u'Family'],\n",
       " u'Rogue One: A Star Wars Story': [u'Action',\n",
       "  u'Drama',\n",
       "  u'Science Fiction',\n",
       "  u'War'],\n",
       " u'Sing': [u'Animation', u'Comedy', u'Drama', u'Family', u'Music'],\n",
       " u'Split': [u'Horror', u'Thriller'],\n",
       " u'Underworld: Blood Wars': [u'Action', u'Horror']}"
      ]
     },
     "execution_count": 8,
     "metadata": {},
     "output_type": "execute_result"
    }
   ],
   "source": [
    "### A list of the 10 most popular movies of 2016 from TMDB and their genres\n",
    "\n",
    "conn = httplib.HTTPSConnection(\"api.themoviedb.org\")\n",
    "payload = \"{}\"\n",
    "conn.request(\"GET\", \"/3/discover/movie?year=2016&page=1&include_video=false&include_adult=false&sort_by=popularity.desc&language=en-US&api_key=f36152ef9bcf77f762135508f9f4e705\", payload)\n",
    "res = conn.getresponse()\n",
    "data = res.read()\n",
    "data=json.loads(data)\n",
    "movies = data[\"results\"][0:10]\n",
    "\n",
    "movie_dict = {}\n",
    "\n",
    "for movie in movies:\n",
    "    movie_genre=[]\n",
    "    for i in movie[\"genre_ids\"]:\n",
    "        for genre in genres_list:\n",
    "            if genre[\"id\"]==i:\n",
    "                movie_genre.append(genre[\"name\"])\n",
    "    movie_dict[movie[\"original_title\"]]=movie_genre\n",
    "\n",
    "movie_dict"
   ]
  },
  {
   "cell_type": "code",
   "execution_count": 9,
   "metadata": {
    "collapsed": false
   },
   "outputs": [],
   "source": [
    "### Generating a heatmap to show the frequency of genres appearing together\n",
    "\n",
    "import numpy as np\n",
    "import pandas as pd\n",
    "\n",
    "g_names = []\n",
    "for i in genres_list:\n",
    "    g_names.append(i[\"name\"])\n",
    "    \n",
    "g_matrix = np.zeros(shape=(19,19))\n",
    "g_matrix = pd.DataFrame(g_matrix, index=g_names, columns=g_names)"
   ]
  },
  {
   "cell_type": "code",
   "execution_count": 10,
   "metadata": {
    "collapsed": false
   },
   "outputs": [],
   "source": [
    "### Using most popular movie data\n",
    "\n",
    "conn = httplib.HTTPSConnection(\"api.themoviedb.org\")\n",
    "payload = \"{}\"\n",
    "conn.request(\"GET\", \"/3/discover/movie?include_video=false&include_adult=false&sort_by=popularity.desc&language=en-US&api_key=f36152ef9bcf77f762135508f9f4e705\", payload)\n",
    "res = conn.getresponse()\n",
    "data = res.read()\n",
    "data=json.loads(data)\n",
    "\n",
    "movies = data[\"results\"]\n",
    "movie_dict = {}\n",
    "for movie in movies:\n",
    "    movie_genre=[]\n",
    "    for i in movie[\"genre_ids\"]:\n",
    "        for genre in genres_list:\n",
    "            if genre[\"id\"]==i:\n",
    "                movie_genre.append(genre[\"name\"])\n",
    "    movie_dict[movie[\"original_title\"]]=movie_genre\n",
    "\n",
    "for movie in movie_dict:\n",
    "    for i in movie_dict[movie]:\n",
    "        for j in movie_dict[movie]:\n",
    "            g_matrix[i][j]+=1"
   ]
  },
  {
   "cell_type": "code",
   "execution_count": 11,
   "metadata": {
    "collapsed": false
   },
   "outputs": [
    {
     "data": {
      "image/png": "[encoded data removed]",
      "text/plain": [
       "<matplotlib.figure.Figure at 0x7f7fdd1d8e90>"
      ]
     },
     "metadata": {},
     "output_type": "display_data"
    }
   ],
   "source": [
    "import matplotlib.pyplot as plt\n",
    "\n",
    "fig,ax=plt.subplots()\n",
    "heatmap=ax.pcolor(g_matrix, cmap=\"hot\")\n",
    "\n",
    "cbar = plt.colorbar(heatmap)\n",
    "\n",
    "\n",
    "ax.set_xticks(np.arange(19) + 0.5, minor=False)\n",
    "ax.set_yticks(np.arange(19) + 0.5, minor=False)\n",
    "ax.invert_yaxis()\n",
    "\n",
    "column_labels = g_names\n",
    "row_labels = g_names\n",
    "ax.set_xticklabels(column_labels,rotation=\"vertical\", minor=False)\n",
    "ax.set_yticklabels(row_labels, minor=False)\n",
    "plt.show()"
   ]
  },
  {
   "cell_type": "code",
   "execution_count": null,
   "metadata": {
    "collapsed": false
   },
   "outputs": [],
   "source": []
  },
  {
   "cell_type": "code",
   "execution_count": null,
   "metadata": {
    "collapsed": true
   },
   "outputs": [],
   "source": []
  }
 ],
 "metadata": {
  "kernelspec": {
   "display_name": "Python [Root]",
   "language": "python",
   "name": "Python [Root]"
  },
  "language_info": {
   "codemirror_mode": {
    "name": "ipython",
    "version": 2
   },
   "file_extension": ".py",
   "mimetype": "text/x-python",
   "name": "python",
   "nbconvert_exporter": "python",
   "pygments_lexer": "ipython2",
   "version": "2.7.12"
  }
 },
 "nbformat": 4,
 "nbformat_minor": 2
}
