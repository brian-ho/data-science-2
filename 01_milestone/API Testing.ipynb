{
 "cells": [
  {
   "cell_type": "code",
   "execution_count": 14,
   "metadata": {
    "collapsed": false
   },
   "outputs": [
    {
     "name": "stdout",
     "output_type": "stream",
     "text": [
      "[<Movie id:1987680[http] title:_Untouchable (2018)_>, <Movie id:0094226[http] title:_The Untouchables (1987)_>, <Movie id:0052522[http] title:_\"The Untouchables\" (1959)_>, <Movie id:0106165[http] title:_\"The Untouchables\" (1993)_>, <Movie id:0065895[http] title:_Machine Gun McCain (1969)_>, <Movie id:1877895[http] title:_The Untouchables (2017)_>, <Movie id:0065469[http] title:_The Big Switch (1968)_>, <Movie id:0425602[http] title:_The Untouchables: Capone Rising (in development) (????)_>, <Movie id:1675434[http] title:_The Intouchables (2011)_>, <Movie id:0810077[http] title:_The Untouchable (2006)_>, <Movie id:5509634[http] title:_Untouchable (I) (2016)_>, <Movie id:0287779[http] title:_The Untouchable (1997) (VG)_>, <Movie id:0287778[http] title:_The Untouchable 2 (2001) (VG)_>, <Movie id:4191792[http] title:_\"Untouchable\" (2015)_>, <Movie id:5220680[http] title:_\"Untouchable\" (2017) (mini)_>, <Movie id:3001590[http] title:_Untouchable (III) (2013)_>, <Movie id:6172126[http] title:_Intouchables (2016)_>, <Movie id:2806760[http] title:_Untouchable (I) (2013)_>, <Movie id:2760176[http] title:_\"The Untouchables (2009) (TV Episode)  - Season 1 | Episode 1  - The Real Story\" (2009)_>, <Movie id:1088289[http] title:_\"The Untouchables (2005) (TV Episode)  - Season 3 | Episode 9  - DVD_TV: Enhanced Version\" (2002)_>]\n"
     ]
    }
   ],
   "source": [
    "## IMDbPY API package\n",
    "\n",
    "# Import the imdb package.\n",
    "import imdb\n",
    "\n",
    "# Create the object that will be used to access the IMDb's database.\n",
    "ia = imdb.IMDb() # by default access the web.\n",
    "\n",
    "# Search for a movie (get a list of Movie objects).\n",
    "s_result = ia.search_movie('The Untouchables')\n",
    "print s_result"
   ]
  },
  {
   "cell_type": "code",
   "execution_count": 15,
   "metadata": {
    "collapsed": false
   },
   "outputs": [
    {
     "name": "stdout",
     "output_type": "stream",
     "text": [
      "{\"images\":{\"base_url\":\"http://image.tmdb.org/t/p/\",\"secure_base_url\":\"https://image.tmdb.org/t/p/\",\"backdrop_sizes\":[\"w300\",\"w780\",\"w1280\",\"original\"],\"logo_sizes\":[\"w45\",\"w92\",\"w154\",\"w185\",\"w300\",\"w500\",\"original\"],\"poster_sizes\":[\"w92\",\"w154\",\"w185\",\"w342\",\"w500\",\"w780\",\"original\"],\"profile_sizes\":[\"w45\",\"w185\",\"h632\",\"original\"],\"still_sizes\":[\"w92\",\"w185\",\"w300\",\"original\"]},\"change_keys\":[\"adult\",\"air_date\",\"also_known_as\",\"alternative_titles\",\"biography\",\"birthday\",\"budget\",\"cast\",\"certifications\",\"character_names\",\"created_by\",\"crew\",\"deathday\",\"episode\",\"episode_number\",\"episode_run_time\",\"freebase_id\",\"freebase_mid\",\"general\",\"genres\",\"guest_stars\",\"homepage\",\"images\",\"imdb_id\",\"languages\",\"name\",\"network\",\"origin_country\",\"original_name\",\"original_title\",\"overview\",\"parts\",\"place_of_birth\",\"plot_keywords\",\"production_code\",\"production_companies\",\"production_countries\",\"releases\",\"revenue\",\"runtime\",\"season\",\"season_number\",\"season_regular\",\"spoken_languages\",\"status\",\"tagline\",\"title\",\"translations\",\"tvdb_id\",\"tvrage_id\",\"type\",\"video\",\"videos\"]}\n"
     ]
    }
   ],
   "source": [
    "## Using the Python Requests library to access the TMDb API via URI\n",
    "\n",
    "import requests\n",
    "\n",
    "payload = {'api_key': '9290a6fe9125b32e7bbe5512036be0d0'}\n",
    "r = requests.get('https://api.themoviedb.org/3/configuration?', params=payload)\n",
    "                 \n",
    "print r.text"
   ]
  }
 ],
 "metadata": {
  "anaconda-cloud": {},
  "kernelspec": {
   "display_name": "Python [Root]",
   "language": "python",
   "name": "Python [Root]"
  },
  "language_info": {
   "codemirror_mode": {
    "name": "ipython",
    "version": 2
   },
   "file_extension": ".py",
   "mimetype": "text/x-python",
   "name": "python",
   "nbconvert_exporter": "python",
   "pygments_lexer": "ipython2",
   "version": "2.7.12"
  }
 },
 "nbformat": 4,
 "nbformat_minor": 0
}
