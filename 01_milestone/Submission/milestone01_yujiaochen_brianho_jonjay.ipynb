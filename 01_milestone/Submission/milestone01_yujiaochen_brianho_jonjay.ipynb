{
 "cells": [
  {
   "cell_type": "markdown",
   "metadata": {},
   "source": [
    "## AC209b / CS109b Final Project - Milestone 1\n",
    "Yujiao Chen, Brian Ho, Jonathan Jay\n",
    "| 04/05/2017\n",
    "\n",
    "\n",
    "The notebook to submit for this milestone needs to at least include:\n",
    "- API code to access the genre and movie poster path of your favorite movie\n",
    "- Genre for this movie listed by TMDb and IMDb\n",
    "- A list of the 10 most popular movies of 2016 from TMDb and their genre obtained via the API\n",
    "- Comments on what challenges you see for predicting movie genre based on the data you have, and how to address them\n",
    "- Code to generate the movie genre pairs and a suitable visualization of the result\n",
    "- Additional visualization sketches and EDA with a focus on movie genres\n",
    "- A list of questions you could answer with this and related data. Get creative here!"
   ]
  },
  {
   "cell_type": "code",
   "execution_count": 186,
   "metadata": {
    "collapsed": true
   },
   "outputs": [],
   "source": [
    "### Let's import some libraries!\n",
    "import imdb\n",
    "import httplib\n",
    "import json\n",
    "import requests\n",
    "import pandas as pd\n",
    "import numpy as np\n",
    "import time\n",
    "import wget\n",
    "import matplotlib.pyplot as plt\n",
    "import random\n",
    "from sklearn import cluster\n",
    "from sklearn import metrics\n",
    "from IPython.display import IFrame\n",
    "from sklearn.decomposition import PCA\n",
    "%matplotlib inline"
   ]
  },
  {
   "cell_type": "code",
   "execution_count": 28,
   "metadata": {
    "collapsed": false
   },
   "outputs": [
    {
     "name": "stdout",
     "output_type": "stream",
     "text": [
      "{'genres': [{'id': 28, 'name': 'Action'}, {'id': 12, 'name': 'Adventure'}, {'id': 16, 'name': 'Animation'}, {'id': 35, 'name': 'Comedy'}, {'id': 80, 'name': 'Crime'}, {'id': 99, 'name': 'Documentary'}, {'id': 18, 'name': 'Drama'}, {'id': 10751, 'name': 'Family'}, {'id': 14, 'name': 'Fantasy'}, {'id': 36, 'name': 'History'}, {'id': 27, 'name': 'Horror'}, {'id': 10402, 'name': 'Music'}, {'id': 9648, 'name': 'Mystery'}, {'id': 10749, 'name': 'Romance'}, {'id': 878, 'name': 'Science Fiction'}, {'id': 10770, 'name': 'TV Movie'}, {'id': 53, 'name': 'Thriller'}, {'id': 10752, 'name': 'War'}, {'id': 37, 'name': 'Western'}]}\n"
     ]
    }
   ],
   "source": [
    "def ascii_encode_dict(data):\n",
    "    ascii_encode = lambda x: x.encode('ascii') if isinstance(x, unicode) else x \n",
    "    return dict(map(ascii_encode, pair) for pair in data.items())\n",
    "\n",
    "### Get a list of genre ids and genre names from TMDB API\n",
    "# N.B. this is a quick query of the API; a more complete pull is made later in notebook\n",
    "conn = httplib.HTTPSConnection(\"api.themoviedb.org\")\n",
    "payload = \"{}\"\n",
    "conn.request(\"GET\", \"/3/genre/movie/list?language=en-US&api_key=f36152ef9bcf77f762135508f9f4e705\", payload)\n",
    "\n",
    "res = conn.getresponse()\n",
    "data = res.read()\n",
    "data=json.loads(data, object_hook=ascii_encode_dict)\n",
    "genres_list = data[\"genres\"]\n",
    "\n",
    "genres_list\n",
    "print data"
   ]
  },
  {
   "cell_type": "code",
   "execution_count": 29,
   "metadata": {
    "collapsed": false
   },
   "outputs": [
    {
     "data": {
      "text/plain": [
       "['Comedy', 'Drama', 'Romance']"
      ]
     },
     "execution_count": 29,
     "metadata": {},
     "output_type": "execute_result"
    }
   ],
   "source": [
    "### Search for you favorite movie in TMDB and get the genres & poster path\n",
    "conn = httplib.HTTPSConnection(\"api.themoviedb.org\")\n",
    "payload = \"{}\"\n",
    "conn.request(\"GET\", \"/3/search/movie?query=forrest%20gump&api_key=f36152ef9bcf77f762135508f9f4e705\", payload)\n",
    "\n",
    "res = conn.getresponse()\n",
    "data = res.read()\n",
    "data=json.loads(data, object_hook=ascii_encode_dict)\n",
    "\n",
    "genre_id = data[\"results\"][0][\"genre_ids\"]\n",
    "poster_path = data[\"results\"][0][\"poster_path\"]\n",
    "\n",
    "### From genre id to genre names\n",
    "movie_genre=[]\n",
    "for i in genre_id:\n",
    "    for genre in genres_list:\n",
    "        if genre[\"id\"]==i:\n",
    "            movie_genre.append(genre[\"name\"])\n",
    "movie_genre"
   ]
  },
  {
   "cell_type": "code",
   "execution_count": 31,
   "metadata": {
    "collapsed": false
   },
   "outputs": [
    {
     "data": {
      "text/plain": [
       "'Favorite movie poster.jpg'"
      ]
     },
     "execution_count": 31,
     "metadata": {},
     "output_type": "execute_result"
    }
   ],
   "source": [
    "### download poster\n",
    "url = \"https://image.tmdb.org/t/p/w500\"\n",
    "url = url + poster_path\n",
    "\n",
    "wget.download(url,\"Favorite movie poster.jpg\")"
   ]
  },
  {
   "cell_type": "markdown",
   "metadata": {},
   "source": [
    "<img src=\"Favorite movie poster.jpg\">"
   ]
  },
  {
   "cell_type": "code",
   "execution_count": null,
   "metadata": {
    "collapsed": true
   },
   "outputs": [],
   "source": []
  },
  {
   "cell_type": "code",
   "execution_count": 50,
   "metadata": {
    "collapsed": false
   },
   "outputs": [
    {
     "data": {
      "text/plain": [
       "['Comedy', 'Drama', 'Romance']"
      ]
     },
     "execution_count": 50,
     "metadata": {},
     "output_type": "execute_result"
    }
   ],
   "source": [
    "### Search the favorite movie in IMDB and get the genres information\n",
    "i = imdb.IMDb()\n",
    "movie_list = i.search_movie(\"Forrest Gump\")\n",
    "first_match = movie_list[0]\n",
    "i.update(first_match)\n",
    "genres = first_match[\"genres\"]\n",
    "\n",
    "[x.encode('ascii') for x in genres]"
   ]
  },
  {
   "cell_type": "code",
   "execution_count": 54,
   "metadata": {
    "collapsed": false
   },
   "outputs": [
    {
     "data": {
      "text/plain": [
       "{'Arrival': ['Drama', 'Science Fiction'],\n",
       " 'Captain America: Civil War': ['Action', 'Science Fiction'],\n",
       " 'Deadpool': ['Action', 'Adventure', 'Comedy', 'Romance'],\n",
       " 'Doctor Strange': ['Action', 'Adventure', 'Fantasy', 'Science Fiction'],\n",
       " 'Fantastic Beasts and Where to Find Them': ['Adventure', 'Action', 'Fantasy'],\n",
       " 'Finding Dory': ['Adventure', 'Animation', 'Comedy', 'Family'],\n",
       " 'John Wick': ['Action', 'Thriller'],\n",
       " 'Rogue One: A Star Wars Story': ['Action', 'Drama', 'Science Fiction', 'War'],\n",
       " 'Sing': ['Animation', 'Comedy', 'Drama', 'Family', 'Music'],\n",
       " 'Split': ['Horror', 'Thriller']}"
      ]
     },
     "execution_count": 54,
     "metadata": {},
     "output_type": "execute_result"
    }
   ],
   "source": [
    "### A list of the 10 most popular movies of 2016 from TMDB and their genres\n",
    "conn = httplib.HTTPSConnection(\"api.themoviedb.org\")\n",
    "payload = \"{}\"\n",
    "conn.request(\"GET\", \"/3/discover/movie?year=2016&page=1&include_video=false&include_adult=false&sort_by=popularity.desc&language=en-US&api_key=f36152ef9bcf77f762135508f9f4e705\", payload)\n",
    "res = conn.getresponse()\n",
    "data = res.read()\n",
    "data=json.loads(data)\n",
    "movies = data[\"results\"][0:10]\n",
    "\n",
    "movie_dict = {}\n",
    "\n",
    "for movie in movies:\n",
    "    movie_genre=[]\n",
    "    for i in movie[\"genre_ids\"]:\n",
    "        for genre in genres_list:\n",
    "            if genre[\"id\"]==i:\n",
    "                movie_genre.append(genre[\"name\"].encode())\n",
    "    movie_dict[movie[\"original_title\"].encode()]=movie_genre\n",
    "\n",
    "movie_dict"
   ]
  },
  {
   "cell_type": "code",
   "execution_count": 55,
   "metadata": {
    "collapsed": true
   },
   "outputs": [],
   "source": [
    "### Generating a heatmap to show the frequency of genres appearing together\n",
    "g_names = []\n",
    "for i in genres_list:\n",
    "    g_names.append(i[\"name\"])\n",
    "    \n",
    "g_matrix = np.zeros(shape=(19,19))\n",
    "g_matrix = pd.DataFrame(g_matrix, index=g_names, columns=g_names)"
   ]
  },
  {
   "cell_type": "code",
   "execution_count": 56,
   "metadata": {
    "collapsed": true
   },
   "outputs": [],
   "source": [
    "### Using most popular movie data\n",
    "conn = httplib.HTTPSConnection(\"api.themoviedb.org\")\n",
    "payload = \"{}\"\n",
    "conn.request(\"GET\", \"/3/discover/movie?include_video=false&include_adult=false&sort_by=popularity.desc&language=en-US&api_key=f36152ef9bcf77f762135508f9f4e705\", payload)\n",
    "res = conn.getresponse()\n",
    "data = res.read()\n",
    "data=json.loads(data)\n",
    "\n",
    "movies = data[\"results\"]\n",
    "movie_dict = {}\n",
    "for movie in movies:\n",
    "    movie_genre=[]\n",
    "    for i in movie[\"genre_ids\"]:\n",
    "        for genre in genres_list:\n",
    "            if genre[\"id\"]==i:\n",
    "                movie_genre.append(genre[\"name\"])\n",
    "    movie_dict[movie[\"original_title\"]]=movie_genre\n",
    "\n",
    "for movie in movie_dict:\n",
    "    for i in movie_dict[movie]:\n",
    "        for j in movie_dict[movie]:\n",
    "            g_matrix[i][j]+=1"
   ]
  },
  {
   "cell_type": "code",
   "execution_count": 57,
   "metadata": {
    "collapsed": false
   },
   "outputs": [
    {
     "data": {
      "image/png": "[encoded data removed]",
      "text/plain": [
       "<matplotlib.figure.Figure at 0x11b5f6090>"
      ]
     },
     "metadata": {},
     "output_type": "display_data"
    }
   ],
   "source": [
    "### Visualization of genre pairing frequencies within top 10 movies\n",
    "fig,ax=plt.subplots()\n",
    "heatmap=ax.pcolor(g_matrix, cmap=\"hot\")\n",
    "\n",
    "cbar = plt.colorbar(heatmap)\n",
    "\n",
    "ax.set_xticks(np.arange(19) + 0.5, minor=False)\n",
    "ax.set_yticks(np.arange(19) + 0.5, minor=False)\n",
    "ax.invert_yaxis()\n",
    "\n",
    "column_labels = g_names\n",
    "row_labels = g_names\n",
    "ax.set_xticklabels(column_labels,rotation=\"vertical\", minor=False)\n",
    "ax.set_yticklabels(row_labels, minor=False)\n",
    "plt.show()"
   ]
  },
  {
   "cell_type": "code",
   "execution_count": 59,
   "metadata": {
    "collapsed": false
   },
   "outputs": [
    {
     "name": "stdout",
     "output_type": "stream",
     "text": [
      "For  2006  there are  8761  total results across  439  total pages.\n",
      "For  2007  there are  9081  total results across  455  total pages.\n",
      "For  2008  there are  9660  total results across  483  total pages.\n",
      "For  2009  there are  10140  total results across  507  total pages.\n",
      "For  2010  there are  10350  total results across  518  total pages.\n",
      "For  2011  there are  11147  total results across  558  total pages.\n",
      "For  2012  there are  12015  total results across  601  total pages.\n",
      "For  2013  there are  13350  total results across  668  total pages.\n",
      "For  2014  there are  13598  total results across  680  total pages.\n",
      "For  2015  there are  12365  total results across  619  total pages.\n"
     ]
    },
    {
     "data": {
      "text/html": [
       "<div>\n",
       "<table border=\"1\" class=\"dataframe\">\n",
       "  <thead>\n",
       "    <tr style=\"text-align: right;\">\n",
       "      <th></th>\n",
       "      <th>adult</th>\n",
       "      <th>backdrop_path</th>\n",
       "      <th>genre_ids</th>\n",
       "      <th>id</th>\n",
       "      <th>original_language</th>\n",
       "      <th>original_title</th>\n",
       "      <th>overview</th>\n",
       "      <th>popularity</th>\n",
       "      <th>poster_path</th>\n",
       "      <th>release_date</th>\n",
       "      <th>title</th>\n",
       "      <th>video</th>\n",
       "      <th>vote_average</th>\n",
       "      <th>vote_count</th>\n",
       "    </tr>\n",
       "  </thead>\n",
       "  <tbody>\n",
       "    <tr>\n",
       "      <th>0</th>\n",
       "      <td>False</td>\n",
       "      <td>/hdHgIcljPHli4xaJGt0INz8Gn3J.jpg</td>\n",
       "      <td>[12, 14, 28]</td>\n",
       "      <td>58</td>\n",
       "      <td>en</td>\n",
       "      <td>Pirates of the Caribbean: Dead Man's Chest</td>\n",
       "      <td>Captain Jack Sparrow works his way out of a bl...</td>\n",
       "      <td>9.561772</td>\n",
       "      <td>/waFr5RVKaQ9dzOt3nQuIVB1FiPu.jpg</td>\n",
       "      <td>2006-06-20</td>\n",
       "      <td>Pirates of the Caribbean: Dead Man's Chest</td>\n",
       "      <td>False</td>\n",
       "      <td>6.9</td>\n",
       "      <td>3801</td>\n",
       "    </tr>\n",
       "    <tr>\n",
       "      <th>1</th>\n",
       "      <td>False</td>\n",
       "      <td>/xq6hXdBpDPIXWjtmvbFmtLvBFJt.jpg</td>\n",
       "      <td>[12, 28, 53]</td>\n",
       "      <td>36557</td>\n",
       "      <td>en</td>\n",
       "      <td>Casino Royale</td>\n",
       "      <td>Le Chiffre, a banker to the world's terrorists...</td>\n",
       "      <td>5.422289</td>\n",
       "      <td>/zlWBxz2pTA9p45kUTrI8AQiKrHm.jpg</td>\n",
       "      <td>2006-11-14</td>\n",
       "      <td>Casino Royale</td>\n",
       "      <td>False</td>\n",
       "      <td>7.2</td>\n",
       "      <td>3202</td>\n",
       "    </tr>\n",
       "    <tr>\n",
       "      <th>2</th>\n",
       "      <td>False</td>\n",
       "      <td>/lxNCa4FifUuLeUkWUQl2yuf9JnJ.jpg</td>\n",
       "      <td>[16, 10751, 35, 12]</td>\n",
       "      <td>950</td>\n",
       "      <td>en</td>\n",
       "      <td>Ice Age: The Meltdown</td>\n",
       "      <td>Diego, Manny and Sid return in this sequel to ...</td>\n",
       "      <td>5.223670</td>\n",
       "      <td>/isRuztu5Ch7FJdtSBLcG8QSOpEI.jpg</td>\n",
       "      <td>2006-03-23</td>\n",
       "      <td>Ice Age: The Meltdown</td>\n",
       "      <td>False</td>\n",
       "      <td>6.4</td>\n",
       "      <td>2152</td>\n",
       "    </tr>\n",
       "    <tr>\n",
       "      <th>3</th>\n",
       "      <td>False</td>\n",
       "      <td>/c5o7FN2vzI7xlU6IF1y64mgcH9E.jpg</td>\n",
       "      <td>[18, 9648, 53]</td>\n",
       "      <td>1124</td>\n",
       "      <td>en</td>\n",
       "      <td>The Prestige</td>\n",
       "      <td>A mysterious story of two magicians whose inte...</td>\n",
       "      <td>5.176274</td>\n",
       "      <td>/5MXyQfz8xUP3dIFPTubhTsbFY6N.jpg</td>\n",
       "      <td>2006-10-19</td>\n",
       "      <td>The Prestige</td>\n",
       "      <td>False</td>\n",
       "      <td>7.9</td>\n",
       "      <td>3195</td>\n",
       "    </tr>\n",
       "    <tr>\n",
       "      <th>4</th>\n",
       "      <td>False</td>\n",
       "      <td>/a1MlbLBk5Sy6YvMbSuKfwGlDVlb.jpg</td>\n",
       "      <td>[16, 12, 35, 10751]</td>\n",
       "      <td>920</td>\n",
       "      <td>en</td>\n",
       "      <td>Cars</td>\n",
       "      <td>Lightning McQueen, a hotshot rookie race car d...</td>\n",
       "      <td>5.109242</td>\n",
       "      <td>/5damnMcRFKSjhCirgX3CMa88MBj.jpg</td>\n",
       "      <td>2006-06-08</td>\n",
       "      <td>Cars</td>\n",
       "      <td>False</td>\n",
       "      <td>6.5</td>\n",
       "      <td>2725</td>\n",
       "    </tr>\n",
       "  </tbody>\n",
       "</table>\n",
       "</div>"
      ],
      "text/plain": [
       "   adult                     backdrop_path            genre_ids     id  \\\n",
       "0  False  /hdHgIcljPHli4xaJGt0INz8Gn3J.jpg         [12, 14, 28]     58   \n",
       "1  False  /xq6hXdBpDPIXWjtmvbFmtLvBFJt.jpg         [12, 28, 53]  36557   \n",
       "2  False  /lxNCa4FifUuLeUkWUQl2yuf9JnJ.jpg  [16, 10751, 35, 12]    950   \n",
       "3  False  /c5o7FN2vzI7xlU6IF1y64mgcH9E.jpg       [18, 9648, 53]   1124   \n",
       "4  False  /a1MlbLBk5Sy6YvMbSuKfwGlDVlb.jpg  [16, 12, 35, 10751]    920   \n",
       "\n",
       "  original_language                              original_title  \\\n",
       "0                en  Pirates of the Caribbean: Dead Man's Chest   \n",
       "1                en                               Casino Royale   \n",
       "2                en                       Ice Age: The Meltdown   \n",
       "3                en                                The Prestige   \n",
       "4                en                                        Cars   \n",
       "\n",
       "                                            overview  popularity  \\\n",
       "0  Captain Jack Sparrow works his way out of a bl...    9.561772   \n",
       "1  Le Chiffre, a banker to the world's terrorists...    5.422289   \n",
       "2  Diego, Manny and Sid return in this sequel to ...    5.223670   \n",
       "3  A mysterious story of two magicians whose inte...    5.176274   \n",
       "4  Lightning McQueen, a hotshot rookie race car d...    5.109242   \n",
       "\n",
       "                        poster_path release_date  \\\n",
       "0  /waFr5RVKaQ9dzOt3nQuIVB1FiPu.jpg   2006-06-20   \n",
       "1  /zlWBxz2pTA9p45kUTrI8AQiKrHm.jpg   2006-11-14   \n",
       "2  /isRuztu5Ch7FJdtSBLcG8QSOpEI.jpg   2006-03-23   \n",
       "3  /5MXyQfz8xUP3dIFPTubhTsbFY6N.jpg   2006-10-19   \n",
       "4  /5damnMcRFKSjhCirgX3CMa88MBj.jpg   2006-06-08   \n",
       "\n",
       "                                        title  video  vote_average  vote_count  \n",
       "0  Pirates of the Caribbean: Dead Man's Chest  False           6.9        3801  \n",
       "1                               Casino Royale  False           7.2        3202  \n",
       "2                       Ice Age: The Meltdown  False           6.4        2152  \n",
       "3                                The Prestige  False           7.9        3195  \n",
       "4                                        Cars  False           6.5        2725  "
      ]
     },
     "execution_count": 59,
     "metadata": {},
     "output_type": "execute_result"
    }
   ],
   "source": [
    "### Further exploration on a large dataset pulled from TMDB\n",
    "# loops through all years from 2006 to 2017 and get 1000 most popular movies in each year\n",
    "years = range(2006,2016)\n",
    "\n",
    "for year in years:\n",
    "    \n",
    "    '''\n",
    "    # intial API request to get\n",
    "    payload = {'api_key': '9290a6fe9125b32e7bbe5512036be0d0',\n",
    "           'sort_by':'popularity.desc',\n",
    "           'primary_release_date.gte':year,\n",
    "           'primary_release_date.lte':year+1,\n",
    "               'page': 1}\n",
    "\n",
    "    r = requests.get('https://api.themoviedb.org/3/discover/movie?', params=payload)\n",
    "    \n",
    "    print 'For ', year, ' there are ', r.json()['total_results'], ' total results across ', r.json()['total_pages'], ' total pages.'\n",
    "\n",
    "    tmdb_movies = pd.concat([tmdb_movies, pd.io.json.json_normalize(r.json()['results'])])\n",
    "    '''\n",
    "    \n",
    "    for page in range(1, 51):\n",
    "            start = time.time()\n",
    "            payload = {'api_key': '9290a6fe9125b32e7bbe5512036be0d0',\n",
    "                       'sort_by':'popularity.desc',\n",
    "                       'primary_release_date.gte':year,\n",
    "                       'primary_release_date.lte':year+1,\n",
    "                       'page': page}\n",
    "            \n",
    "            r = requests.get('https://api.themoviedb.org/3/discover/movie?', params=payload)\n",
    "            \n",
    "            if page == 1:\n",
    "                print 'For ', year, ' there are ', r.json()['total_results'], ' total results across ', r.json()['total_pages'], ' total pages.'\n",
    "                \n",
    "                if year == 2006:\n",
    "                    tmdb_movies = pd.io.json.json_normalize(r.json()['results'])\n",
    "            \n",
    "            else:\n",
    "                tmdb_movies = pd.concat([tmdb_movies, pd.io.json.json_normalize(r.json()['results'])])\n",
    "            \n",
    "            delay = time.time()-start\n",
    "            \n",
    "            if delay < 0.25:\n",
    "                time.sleep(0.25-delay)\n",
    "\n",
    "tmdb_movies.head()"
   ]
  },
  {
   "cell_type": "code",
   "execution_count": 60,
   "metadata": {
    "collapsed": true
   },
   "outputs": [],
   "source": [
    "# Save results to CSV\n",
    "tmdb_movies.to_csv('Top 10000 movies.csv', encoding='utf8')"
   ]
  },
  {
   "cell_type": "markdown",
   "metadata": {},
   "source": [
    "RStudio was used to match the list of movies with genre names. See *\"milestone01_yujiaochen_brianho_jonjay_clean_EDA.Rmd\"* for information."
   ]
  },
  {
   "cell_type": "code",
   "execution_count": 61,
   "metadata": {
    "collapsed": false
   },
   "outputs": [
    {
     "data": {
      "text/html": [
       "\n",
       "        <iframe\n",
       "            width=\"850\"\n",
       "            height=\"1100\"\n",
       "            src=\"milestone01_yujiaochen_brianho_jonjay_EDA.pdf\"\n",
       "            frameborder=\"0\"\n",
       "            allowfullscreen\n",
       "        ></iframe>\n",
       "        "
      ],
      "text/plain": [
       "<IPython.lib.display.IFrame at 0x11bb3a6d0>"
      ]
     },
     "execution_count": 61,
     "metadata": {},
     "output_type": "execute_result"
    }
   ],
   "source": [
    "# Load PDFs generated from R into notebook\n",
    "IFrame(\"milestone01_yujiaochen_brianho_jonjay_EDA.pdf\", width=850, height=1100)"
   ]
  },
  {
   "cell_type": "code",
   "execution_count": 192,
   "metadata": {
    "collapsed": false
   },
   "outputs": [],
   "source": [
    "# Load in matched file, and perform some cleaning\n",
    "movies = pd.read_csv(\"Top 10000 movies genre counts.csv\", index_col=0)\n",
    "movies = movies.dropna(axis=0)\n",
    "\n",
    "movies = movies.iloc[:,2:]"
   ]
  },
  {
   "cell_type": "code",
   "execution_count": 209,
   "metadata": {
    "collapsed": false
   },
   "outputs": [
    {
     "name": "stdout",
     "output_type": "stream",
     "text": [
      "Estimated number of clusters: 39\n"
     ]
    }
   ],
   "source": [
    "# Try some clustering by genre groupings\n",
    "db = cluster.DBSCAN(eps=.8, min_samples=40).fit(movies)\n",
    "core_samples_mask = np.zeros_like(db.labels_, dtype=bool)\n",
    "core_samples_mask[db.core_sample_indices_] = True\n",
    "labels = db.labels_\n",
    "\n",
    "# Number of clusters in labels, ignoring noise if present.\n",
    "n_clusters_ = len(set(labels)) - (1 if -1 in labels else 0)\n",
    "\n",
    "print('Estimated number of clusters: %d' % n_clusters_)\n",
    "#print(\"Silhouette Coefficient: %0.3f\" % metrics.silhouette_score(movies, labels))"
   ]
  },
  {
   "cell_type": "code",
   "execution_count": 210,
   "metadata": {
    "collapsed": false
   },
   "outputs": [],
   "source": [
    "# PCA for plotting\n",
    "pca = PCA(n_components=2)\n",
    "pca.fit(movies)\n",
    "\n",
    "X_pca = pca.fit_transform(movies)"
   ]
  },
  {
   "cell_type": "code",
   "execution_count": 219,
   "metadata": {
    "collapsed": false
   },
   "outputs": [
    {
     "data": {
      "image/png": "[encoded data removed]",
      "text/plain": [
       "<matplotlib.figure.Figure at 0x41ce8ecd0>"
      ]
     },
     "metadata": {},
     "output_type": "display_data"
    }
   ],
   "source": [
    "# Black removed and is used for noise instead.\n",
    "unique_labels = set(labels)\n",
    "colors = plt.cm.Spectral(np.linspace(0, 1, len(unique_labels)))\n",
    "\n",
    "fig = plt.figure(figsize=(20,20))\n",
    "\n",
    "for k, col in zip(unique_labels, colors):\n",
    "    if k == -1:\n",
    "        # Black used for noise.\n",
    "        col = 'k'\n",
    "    \n",
    "\n",
    "    class_member_mask = (labels == k)\n",
    "\n",
    "    xy = X_pca[class_member_mask,:]\n",
    "    #print k, col, len(xy)\n",
    "    #plt.scatter(xy[:, 0], xy[:, 1], c=col, edgecolor=col, s=5)\n",
    "\n",
    "    #xy = movies.iloc[:,2:][class_member_mask & ~core_samples_mask]\n",
    "    #plt.scatter(X_pca[:, 0], X_pca[:, 1], c=col, edgecolor=col, s=.5)\n",
    "\n",
    "    xy = X_pca[class_member_mask & ~core_samples_mask]\n",
    "    plt.plot(xy[:, 0], xy[:, 1], 'o', markerfacecolor=col,\n",
    "    markeredgecolor=col, markersize=2)\n",
    "    \n",
    "    xy = X_pca[class_member_mask & core_samples_mask]\n",
    "    plt.plot(xy[:, 0], xy[:, 1], 'o', markerfacecolor=col,\n",
    "    markeredgecolor=col, markersize=10)\n",
    "\n",
    "plt.title('Estimated number of clusters: %d' % n_clusters_)\n",
    "plt.show()"
   ]
  },
  {
   "cell_type": "code",
   "execution_count": null,
   "metadata": {
    "collapsed": false
   },
   "outputs": [],
   "source": [
    "# Load in matched file, and perform some cleaning\n",
    "movies = pd.read_csv(\"Top 10000 movies genre names.csv\", index_col=0)\n",
    "movies = movies.dropna(axis=0)\n",
    "\n",
    "movies.head()"
   ]
  },
  {
   "cell_type": "markdown",
   "metadata": {},
   "source": [
    "###### Comments on what challenges you see for predicting movie genre based on the data you have, and how to address them\n",
    "\n",
    "Main challenge: multiple genre assignments\n",
    "\n",
    "Not only are there 20 possible genre assignments in TMDb--a large number of classes to predict--but movies are commonly assigned more than one genre. This suggests that genres are properties of movies, and not necessarily mutually exclusive categories. At the same time, we perceive that movies can generally be grouped according to likeness. One of our initial ideas, therefore, is to consider how movies cluster based on genre assignment alone. The idea of similarity/dissimilarity across movies could potentially be captured by distance among genre groupings, e.g. in principal components space. This analysis could potentially generate alternative outcome values for our predictions, addressing the multiple values problem described above while capturing something intuitively true about the movie (e.g. the difference between a typical comedy and a \"romantic comedy\").      \n",
    "\n",
    "Some other possible solutions would be to narrow down the genres we try to predict; to sample only movies that have been assigned one genre; to create multiple entries for movies with multiple genres, assigning one genre per entry; or to develop a method for choosing a single genre among those assigned to a given movie. The correct choice among these strategies will depend partly on choices we make later about the research questions and predictor data that interest us most.\n",
    "\n",
    "###### A list of questions you could answer with this and related data. Get creative here!\n",
    "\n",
    "Some that we've discussed:\n",
    "Can movie posters predict the year of a movie's release? What attributes of a poster are most associated with year of release?\n",
    "How do prediction algorithms trained on English-language movies perform on movies in other languages?\n",
    "What could an algorithm, trained to predict popularity based on movie posters, teach us if we inputted fake or modified posters? What sorts of posters would it generate, synthesizing what it has learned about popular/unpopular movies? \n"
   ]
  }
 ],
 "metadata": {
  "anaconda-cloud": {},
  "kernelspec": {
   "display_name": "Python [Root]",
   "language": "python",
   "name": "Python [Root]"
  },
  "language_info": {
   "codemirror_mode": {
    "name": "ipython",
    "version": 2
   },
   "file_extension": ".py",
   "mimetype": "text/x-python",
   "name": "python",
   "nbconvert_exporter": "python",
   "pygments_lexer": "ipython2",
   "version": "2.7.12"
  }
 },
 "nbformat": 4,
 "nbformat_minor": 0
}
