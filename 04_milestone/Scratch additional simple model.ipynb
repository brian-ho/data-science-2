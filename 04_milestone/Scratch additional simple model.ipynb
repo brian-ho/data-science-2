{
 "cells": [
  {
   "cell_type": "markdown",
   "metadata": {},
   "source": [
    "## This is an additional simple model with several different settings.\n",
    "### Compared to \"Scratch simple model\", this model:\n",
    "### - uses AdaGrad as optimizer (instead of rmsprop); \n",
    "### - adds one 0.2 dropout on input layer and one 0.5 dropout on hidden layer; \n",
    "### - only applies rescale to training image (instead of rescale, shear, zoom and horizontal flip)\n",
    "\n",
    "### It shows better performance on training set and similar performance on testing set"
   ]
  },
  {
   "cell_type": "code",
   "execution_count": null,
   "metadata": {
    "collapsed": true
   },
   "outputs": [],
   "source": [
    "import keras\n",
    "from keras.preprocessing.image import ImageDataGenerator\n",
    "from keras.models import Sequential\n",
    "from keras.layers import Conv2D, MaxPooling2D\n",
    "from keras.layers import Activation, Dropout, Flatten, Dense\n",
    "from keras import regularizers\n",
    "from keras.optimizers import SGD\n",
    "\n",
    "import matplotlib\n",
    "%matplotlib inline\n",
    "import matplotlib.pyplot as plt"
   ]
  },
  {
   "cell_type": "markdown",
   "metadata": {},
   "source": [
    "# Two-Genre Classification \n",
    "## Horror vs. Romance"
   ]
  },
  {
   "cell_type": "code",
   "execution_count": 8,
   "metadata": {
    "collapsed": true
   },
   "outputs": [],
   "source": [
    "img_width, img_height = 92,138\n",
    "\n",
    "train_data_dir = 'horror_vs_romance/train'\n",
    "validation_data_dir = 'horror_vs_romance/validation'\n",
    "nb_train_samples = 800\n",
    "nb_validation_samples = 200\n",
    "epochs = 60\n",
    "batch_size = 10\n",
    "input_shape = (img_width, img_height, 3)"
   ]
  },
  {
   "cell_type": "code",
   "execution_count": 9,
   "metadata": {
    "collapsed": false
   },
   "outputs": [
    {
     "name": "stdout",
     "output_type": "stream",
     "text": [
      "Found 800 images belonging to 2 classes.\n",
      "Found 200 images belonging to 2 classes.\n",
      "Epoch 1/60\n",
      "80/80 [==============================] - 10s - loss: 0.7311 - acc: 0.5775 - val_loss: 0.6327 - val_acc: 0.6450\n",
      "Epoch 2/60\n",
      "80/80 [==============================] - 10s - loss: 0.6084 - acc: 0.7100 - val_loss: 0.5057 - val_acc: 0.7550\n",
      "Epoch 3/60\n",
      "80/80 [==============================] - 10s - loss: 0.5188 - acc: 0.7487 - val_loss: 0.4845 - val_acc: 0.7750\n",
      "Epoch 4/60\n",
      "80/80 [==============================] - 10s - loss: 0.4965 - acc: 0.7737 - val_loss: 0.4934 - val_acc: 0.7500\n",
      "Epoch 5/60\n",
      "80/80 [==============================] - 10s - loss: 0.4674 - acc: 0.7887 - val_loss: 0.4793 - val_acc: 0.7500\n",
      "Epoch 6/60\n",
      "80/80 [==============================] - 10s - loss: 0.4301 - acc: 0.8125 - val_loss: 0.4298 - val_acc: 0.8350\n",
      "Epoch 7/60\n",
      "80/80 [==============================] - 10s - loss: 0.3987 - acc: 0.8237 - val_loss: 0.4391 - val_acc: 0.7900\n",
      "Epoch 8/60\n",
      "80/80 [==============================] - 10s - loss: 0.3690 - acc: 0.8450 - val_loss: 0.5603 - val_acc: 0.7650\n",
      "Epoch 9/60\n",
      "80/80 [==============================] - 10s - loss: 0.3317 - acc: 0.8700 - val_loss: 0.4335 - val_acc: 0.8100\n",
      "Epoch 10/60\n",
      "80/80 [==============================] - 10s - loss: 0.2815 - acc: 0.8825 - val_loss: 0.4658 - val_acc: 0.7700\n",
      "Epoch 11/60\n",
      "80/80 [==============================] - 10s - loss: 0.2535 - acc: 0.8975 - val_loss: 0.4721 - val_acc: 0.7950\n",
      "Epoch 12/60\n",
      "80/80 [==============================] - 10s - loss: 0.2087 - acc: 0.9212 - val_loss: 0.4571 - val_acc: 0.8000\n",
      "Epoch 13/60\n",
      "80/80 [==============================] - 10s - loss: 0.1746 - acc: 0.9400 - val_loss: 0.4780 - val_acc: 0.7950\n",
      "Epoch 14/60\n",
      "80/80 [==============================] - 10s - loss: 0.1441 - acc: 0.9525 - val_loss: 0.4984 - val_acc: 0.7800\n",
      "Epoch 15/60\n",
      "80/80 [==============================] - 10s - loss: 0.1248 - acc: 0.9587 - val_loss: 0.4904 - val_acc: 0.7850\n",
      "Epoch 16/60\n",
      "80/80 [==============================] - 10s - loss: 0.1179 - acc: 0.9625 - val_loss: 0.5205 - val_acc: 0.7750\n",
      "Epoch 17/60\n",
      "80/80 [==============================] - 10s - loss: 0.0993 - acc: 0.9637 - val_loss: 0.4525 - val_acc: 0.8150\n",
      "Epoch 18/60\n",
      "80/80 [==============================] - 10s - loss: 0.0826 - acc: 0.9750 - val_loss: 0.5461 - val_acc: 0.8050\n",
      "Epoch 19/60\n",
      "80/80 [==============================] - 10s - loss: 0.0696 - acc: 0.9850 - val_loss: 0.6828 - val_acc: 0.7650\n",
      "Epoch 20/60\n",
      "80/80 [==============================] - 10s - loss: 0.0566 - acc: 0.9837 - val_loss: 0.7082 - val_acc: 0.7600\n",
      "Epoch 21/60\n",
      "80/80 [==============================] - 10s - loss: 0.0520 - acc: 0.9825 - val_loss: 0.6567 - val_acc: 0.8000\n",
      "Epoch 22/60\n",
      "80/80 [==============================] - 10s - loss: 0.0344 - acc: 0.9950 - val_loss: 0.7031 - val_acc: 0.7900\n",
      "Epoch 23/60\n",
      "80/80 [==============================] - 10s - loss: 0.0416 - acc: 0.9912 - val_loss: 0.7336 - val_acc: 0.7800\n",
      "Epoch 24/60\n",
      "80/80 [==============================] - 10s - loss: 0.0391 - acc: 0.9912 - val_loss: 0.8091 - val_acc: 0.7650\n",
      "Epoch 25/60\n",
      "80/80 [==============================] - 10s - loss: 0.0278 - acc: 0.9950 - val_loss: 0.8336 - val_acc: 0.7750\n",
      "Epoch 26/60\n",
      "80/80 [==============================] - 10s - loss: 0.0193 - acc: 0.9975 - val_loss: 0.8858 - val_acc: 0.7650\n",
      "Epoch 27/60\n",
      "80/80 [==============================] - 10s - loss: 0.0232 - acc: 0.9975 - val_loss: 0.9572 - val_acc: 0.7950\n",
      "Epoch 28/60\n",
      "80/80 [==============================] - 10s - loss: 0.0224 - acc: 0.9950 - val_loss: 0.8425 - val_acc: 0.8050\n",
      "Epoch 29/60\n",
      "80/80 [==============================] - 10s - loss: 0.0154 - acc: 0.9975 - val_loss: 0.9966 - val_acc: 0.7550\n",
      "Epoch 30/60\n",
      "80/80 [==============================] - 10s - loss: 0.0176 - acc: 0.9987 - val_loss: 0.9083 - val_acc: 0.7850\n",
      "Epoch 31/60\n",
      "80/80 [==============================] - 10s - loss: 0.0197 - acc: 0.9975 - val_loss: 0.8869 - val_acc: 0.8100\n",
      "Epoch 32/60\n",
      "80/80 [==============================] - 10s - loss: 0.0182 - acc: 0.9962 - val_loss: 0.8571 - val_acc: 0.8050\n",
      "Epoch 33/60\n",
      "80/80 [==============================] - 10s - loss: 0.0300 - acc: 0.9925 - val_loss: 0.9913 - val_acc: 0.7750\n",
      "Epoch 34/60\n",
      "80/80 [==============================] - 10s - loss: 0.0172 - acc: 0.9975 - val_loss: 0.9409 - val_acc: 0.7850\n",
      "Epoch 35/60\n",
      "80/80 [==============================] - 10s - loss: 0.0238 - acc: 0.9912 - val_loss: 0.7494 - val_acc: 0.8350\n",
      "Epoch 36/60\n",
      "80/80 [==============================] - 10s - loss: 0.0129 - acc: 0.9975 - val_loss: 1.0099 - val_acc: 0.7550\n",
      "Epoch 37/60\n",
      "80/80 [==============================] - 10s - loss: 0.0129 - acc: 0.9975 - val_loss: 0.9634 - val_acc: 0.8150\n",
      "Epoch 38/60\n",
      "80/80 [==============================] - 10s - loss: 0.0125 - acc: 0.9987 - val_loss: 0.8815 - val_acc: 0.7950\n",
      "Epoch 39/60\n",
      "80/80 [==============================] - 10s - loss: 0.0128 - acc: 0.9962 - val_loss: 0.9357 - val_acc: 0.7900\n",
      "Epoch 40/60\n",
      "80/80 [==============================] - 10s - loss: 0.0095 - acc: 0.9987 - val_loss: 1.0551 - val_acc: 0.7700\n",
      "Epoch 41/60\n",
      "80/80 [==============================] - 10s - loss: 0.0126 - acc: 0.9987 - val_loss: 1.0800 - val_acc: 0.7900\n",
      "Epoch 42/60\n",
      "80/80 [==============================] - 10s - loss: 0.0074 - acc: 1.0000 - val_loss: 1.0526 - val_acc: 0.7850\n",
      "Epoch 43/60\n",
      "80/80 [==============================] - 10s - loss: 0.0121 - acc: 0.9962 - val_loss: 1.1372 - val_acc: 0.7700\n",
      "Epoch 44/60\n",
      "80/80 [==============================] - 10s - loss: 0.0087 - acc: 1.0000 - val_loss: 1.1677 - val_acc: 0.7750\n",
      "Epoch 45/60\n",
      "80/80 [==============================] - 10s - loss: 0.0128 - acc: 0.9962 - val_loss: 1.0377 - val_acc: 0.7950\n",
      "Epoch 46/60\n",
      "80/80 [==============================] - 10s - loss: 0.0065 - acc: 1.0000 - val_loss: 1.0895 - val_acc: 0.7950\n",
      "Epoch 47/60\n",
      "80/80 [==============================] - 10s - loss: 0.0063 - acc: 1.0000 - val_loss: 1.0478 - val_acc: 0.7900\n",
      "Epoch 48/60\n",
      "80/80 [==============================] - 10s - loss: 0.0081 - acc: 0.9975 - val_loss: 1.0644 - val_acc: 0.7850\n",
      "Epoch 49/60\n",
      "80/80 [==============================] - 10s - loss: 0.0108 - acc: 0.9962 - val_loss: 1.0463 - val_acc: 0.8100\n",
      "Epoch 50/60\n",
      "80/80 [==============================] - 10s - loss: 0.0063 - acc: 1.0000 - val_loss: 0.9821 - val_acc: 0.7950\n",
      "Epoch 51/60\n",
      "80/80 [==============================] - 10s - loss: 0.0057 - acc: 1.0000 - val_loss: 1.0713 - val_acc: 0.7800\n",
      "Epoch 52/60\n",
      "80/80 [==============================] - 10s - loss: 0.0080 - acc: 0.9987 - val_loss: 1.1406 - val_acc: 0.8000\n",
      "Epoch 53/60\n",
      "80/80 [==============================] - 10s - loss: 0.0042 - acc: 0.9987 - val_loss: 0.9720 - val_acc: 0.8200\n",
      "Epoch 54/60\n",
      "80/80 [==============================] - 10s - loss: 0.0044 - acc: 1.0000 - val_loss: 1.1845 - val_acc: 0.8150\n",
      "Epoch 55/60\n",
      "80/80 [==============================] - 10s - loss: 0.0046 - acc: 1.0000 - val_loss: 1.2555 - val_acc: 0.8000\n",
      "Epoch 56/60\n",
      "80/80 [==============================] - 10s - loss: 0.0041 - acc: 1.0000 - val_loss: 1.0900 - val_acc: 0.7950\n",
      "Epoch 57/60\n",
      "80/80 [==============================] - 10s - loss: 0.0044 - acc: 1.0000 - val_loss: 1.2690 - val_acc: 0.7900\n",
      "Epoch 58/60\n",
      "80/80 [==============================] - 11s - loss: 0.0076 - acc: 0.9987 - val_loss: 1.1257 - val_acc: 0.7950\n",
      "Epoch 59/60\n",
      "80/80 [==============================] - 11s - loss: 0.0033 - acc: 1.0000 - val_loss: 1.1225 - val_acc: 0.8000\n",
      "Epoch 60/60\n",
      "80/80 [==============================] - 11s - loss: 0.0116 - acc: 0.9937 - val_loss: 1.1093 - val_acc: 0.7950\n"
     ]
    }
   ],
   "source": [
    "\n",
    "model = Sequential()\n",
    "model.add(Conv2D(32, (3, 3), input_shape=input_shape))\n",
    "model.add(Activation('relu'))\n",
    "model.add(MaxPooling2D(pool_size=(2, 2)))\n",
    "\n",
    "model.add(Conv2D(32, (3, 3)))\n",
    "model.add(Activation('relu'))\n",
    "model.add(MaxPooling2D(pool_size=(2, 2)))\n",
    "\n",
    "model.add(Conv2D(64, (3, 3)))\n",
    "model.add(Activation('relu'))\n",
    "model.add(MaxPooling2D(pool_size=(2, 2)))\n",
    "model.add(Dropout(0.2))\n",
    "\n",
    "\n",
    "model.add(Flatten())\n",
    "model.add(Dense(64,activation=\"relu\"))\n",
    "model.add(Dropout(0.5))\n",
    "model.add(Dense(1))\n",
    "model.add(Activation('sigmoid'))\n",
    "\n",
    "model.compile(loss='binary_crossentropy',\n",
    "              optimizer='AdaGrad',\n",
    "              metrics=['accuracy'])\n",
    "\n",
    "train_datagen = ImageDataGenerator(\n",
    "    rescale=1. / 255)\n",
    "\n",
    "test_datagen = ImageDataGenerator(rescale=1. / 255)\n",
    "\n",
    "train_generator = train_datagen.flow_from_directory(\n",
    "    train_data_dir,\n",
    "    target_size=(img_width, img_height),\n",
    "    batch_size=batch_size,\n",
    "    class_mode='binary')\n",
    "\n",
    "validation_generator = test_datagen.flow_from_directory(\n",
    "    validation_data_dir,\n",
    "    target_size=(img_width, img_height),\n",
    "    batch_size=batch_size,\n",
    "    class_mode='binary')\n",
    "\n",
    "hist = model.fit_generator(\n",
    "    train_generator,\n",
    "    steps_per_epoch=nb_train_samples // batch_size,\n",
    "    epochs=epochs,\n",
    "    validation_data=validation_generator,\n",
    "    validation_steps=nb_validation_samples // batch_size)"
   ]
  },
  {
   "cell_type": "code",
   "execution_count": 10,
   "metadata": {
    "collapsed": false
   },
   "outputs": [
    {
     "data": {
      "text/plain": [
       "<matplotlib.legend.Legend at 0x1485bcf8>"
      ]
     },
     "execution_count": 10,
     "metadata": {},
     "output_type": "execute_result"
    },
    {
     "data": {
      "image/png": "[encoded data removed]",
      "text/plain": [
       "<matplotlib.figure.Figure at 0x10413d68>"
      ]
     },
     "metadata": {},
     "output_type": "display_data"
    }
   ],
   "source": [
    "plt.plot(hist.history['acc'])\n",
    "plt.plot(hist.history['val_acc'])\n",
    "plt.title('model accuracy')\n",
    "plt.ylabel('accuracy')\n",
    "plt.xlabel('epoch')\n",
    "plt.legend(['train', 'test'], loc='upper left')"
   ]
  },
  {
   "cell_type": "code",
   "execution_count": 11,
   "metadata": {
    "collapsed": false
   },
   "outputs": [
    {
     "data": {
      "text/plain": [
       "<matplotlib.legend.Legend at 0x12d044a8>"
      ]
     },
     "execution_count": 11,
     "metadata": {},
     "output_type": "execute_result"
    },
    {
     "data": {
      "image/png": "[encoded data removed]",
      "text/plain": [
       "<matplotlib.figure.Figure at 0x14a6e208>"
      ]
     },
     "metadata": {},
     "output_type": "display_data"
    }
   ],
   "source": [
    "plt.plot(hist.history['loss'])\n",
    "plt.plot(hist.history['val_loss'])\n",
    "plt.title('model loss')\n",
    "plt.ylabel('loss')\n",
    "plt.xlabel('epoch')\n",
    "plt.legend(['train', 'test'], loc='upper left')"
   ]
  },
  {
   "cell_type": "code",
   "execution_count": null,
   "metadata": {
    "collapsed": true
   },
   "outputs": [],
   "source": []
  },
  {
   "cell_type": "code",
   "execution_count": null,
   "metadata": {
    "collapsed": true
   },
   "outputs": [],
   "source": []
  },
  {
   "cell_type": "markdown",
   "metadata": {},
   "source": [
    "# Three-Genre Classification\n",
    "## Horror vs. Romance vs. Scifi"
   ]
  },
  {
   "cell_type": "code",
   "execution_count": 12,
   "metadata": {
    "collapsed": true
   },
   "outputs": [],
   "source": [
    "img_width, img_height = 92,138\n",
    "\n",
    "train_data_dir = 'horror_vs_romance_vs_scifi/train'\n",
    "validation_data_dir = 'horror_vs_romance_vs_scifi/validation'\n",
    "nb_train_samples = 1064\n",
    "nb_validation_samples = 266\n",
    "epochs = 60\n",
    "batch_size = 10\n",
    "input_shape = (img_width, img_height, 3)"
   ]
  },
  {
   "cell_type": "code",
   "execution_count": 13,
   "metadata": {
    "collapsed": false
   },
   "outputs": [
    {
     "name": "stdout",
     "output_type": "stream",
     "text": [
      "Found 1064 images belonging to 3 classes.\n",
      "Found 266 images belonging to 3 classes.\n",
      "Epoch 1/60\n",
      "106/106 [==============================] - 18s - loss: 1.1940 - acc: 0.4689 - val_loss: 0.9345 - val_acc: 0.6500\n",
      "Epoch 2/60\n",
      "106/106 [==============================] - 13s - loss: 0.9564 - acc: 0.5788 - val_loss: 0.9007 - val_acc: 0.6000\n",
      "Epoch 3/60\n",
      "106/106 [==============================] - 13s - loss: 0.9067 - acc: 0.5967 - val_loss: 0.8541 - val_acc: 0.6328\n",
      "Epoch 4/60\n",
      "106/106 [==============================] - 13s - loss: 0.9082 - acc: 0.6094 - val_loss: 0.8980 - val_acc: 0.6055\n",
      "Epoch 5/60\n",
      "106/106 [==============================] - 13s - loss: 0.8684 - acc: 0.6245 - val_loss: 0.8399 - val_acc: 0.6115\n",
      "Epoch 6/60\n",
      "106/106 [==============================] - 13s - loss: 0.8447 - acc: 0.6326 - val_loss: 0.8243 - val_acc: 0.6250\n",
      "Epoch 7/60\n",
      "106/106 [==============================] - 13s - loss: 0.8105 - acc: 0.6533 - val_loss: 0.8361 - val_acc: 0.6406\n",
      "Epoch 8/60\n",
      "106/106 [==============================] - 13s - loss: 0.7504 - acc: 0.6788 - val_loss: 0.7997 - val_acc: 0.6346\n",
      "Epoch 9/60\n",
      "106/106 [==============================] - 13s - loss: 0.7082 - acc: 0.7019 - val_loss: 0.8781 - val_acc: 0.6211\n",
      "Epoch 10/60\n",
      "106/106 [==============================] - 13s - loss: 0.6774 - acc: 0.7156 - val_loss: 0.8508 - val_acc: 0.6250\n",
      "Epoch 11/60\n",
      "106/106 [==============================] - 13s - loss: 0.6171 - acc: 0.7557 - val_loss: 0.8229 - val_acc: 0.6192\n",
      "Epoch 12/60\n",
      "106/106 [==============================] - 13s - loss: 0.5922 - acc: 0.7458 - val_loss: 0.9426 - val_acc: 0.6211\n",
      "Epoch 13/60\n",
      "106/106 [==============================] - 13s - loss: 0.5187 - acc: 0.8104 - val_loss: 0.8777 - val_acc: 0.6016\n",
      "Epoch 14/60\n",
      "106/106 [==============================] - 13s - loss: 0.4590 - acc: 0.8198 - val_loss: 0.9622 - val_acc: 0.6445\n",
      "Epoch 15/60\n",
      "106/106 [==============================] - 13s - loss: 0.4272 - acc: 0.8326 - val_loss: 1.0387 - val_acc: 0.6445\n",
      "Epoch 16/60\n",
      "106/106 [==============================] - 13s - loss: 0.3858 - acc: 0.8566 - val_loss: 1.0251 - val_acc: 0.6328\n",
      "Epoch 17/60\n",
      "106/106 [==============================] - 13s - loss: 0.3326 - acc: 0.8689 - val_loss: 1.0428 - val_acc: 0.6094\n",
      "Epoch 18/60\n",
      "106/106 [==============================] - 13s - loss: 0.2871 - acc: 0.9038 - val_loss: 1.1231 - val_acc: 0.6094\n",
      "Epoch 19/60\n",
      "106/106 [==============================] - 13s - loss: 0.2742 - acc: 0.8995 - val_loss: 1.0243 - val_acc: 0.5781\n",
      "Epoch 20/60\n",
      "106/106 [==============================] - 13s - loss: 0.2347 - acc: 0.9179 - val_loss: 1.2207 - val_acc: 0.6133\n",
      "Epoch 21/60\n",
      "106/106 [==============================] - 13s - loss: 0.2370 - acc: 0.9184 - val_loss: 1.1269 - val_acc: 0.6250\n",
      "Epoch 22/60\n",
      "106/106 [==============================] - 13s - loss: 0.1976 - acc: 0.9321 - val_loss: 1.2792 - val_acc: 0.5781\n",
      "Epoch 23/60\n",
      "106/106 [==============================] - 13s - loss: 0.1513 - acc: 0.9509 - val_loss: 1.3662 - val_acc: 0.6289\n",
      "Epoch 24/60\n",
      "106/106 [==============================] - 13s - loss: 0.1456 - acc: 0.9528 - val_loss: 1.3960 - val_acc: 0.6250\n",
      "Epoch 25/60\n",
      "106/106 [==============================] - 13s - loss: 0.1338 - acc: 0.9632 - val_loss: 1.8194 - val_acc: 0.5898\n",
      "Epoch 26/60\n",
      "106/106 [==============================] - 13s - loss: 0.1369 - acc: 0.9547 - val_loss: 1.5471 - val_acc: 0.6133\n",
      "Epoch 27/60\n",
      "106/106 [==============================] - 13s - loss: 0.1170 - acc: 0.9646 - val_loss: 1.7235 - val_acc: 0.5742\n",
      "Epoch 28/60\n",
      "106/106 [==============================] - 13s - loss: 0.1046 - acc: 0.9708 - val_loss: 1.8713 - val_acc: 0.6367\n",
      "Epoch 29/60\n",
      "106/106 [==============================] - 13s - loss: 0.0994 - acc: 0.9717 - val_loss: 1.6487 - val_acc: 0.6172\n",
      "Epoch 30/60\n",
      "106/106 [==============================] - 13s - loss: 0.0906 - acc: 0.9755 - val_loss: 1.6389 - val_acc: 0.6172\n",
      "Epoch 31/60\n",
      "106/106 [==============================] - 13s - loss: 0.0753 - acc: 0.9792 - val_loss: 1.6677 - val_acc: 0.6406\n",
      "Epoch 32/60\n",
      "106/106 [==============================] - 13s - loss: 0.0902 - acc: 0.9774 - val_loss: 1.8560 - val_acc: 0.6133\n",
      "Epoch 33/60\n",
      "106/106 [==============================] - 14s - loss: 0.0687 - acc: 0.9764 - val_loss: 1.8862 - val_acc: 0.6367\n",
      "Epoch 34/60\n",
      "106/106 [==============================] - 14s - loss: 0.0764 - acc: 0.9792 - val_loss: 2.2146 - val_acc: 0.5352\n",
      "Epoch 35/60\n",
      "106/106 [==============================] - 14s - loss: 0.0633 - acc: 0.9797 - val_loss: 1.7237 - val_acc: 0.6211\n",
      "Epoch 36/60\n",
      "106/106 [==============================] - 14s - loss: 0.0874 - acc: 0.9745 - val_loss: 2.0242 - val_acc: 0.5977\n",
      "Epoch 37/60\n",
      "106/106 [==============================] - 14s - loss: 0.0556 - acc: 0.9792 - val_loss: 1.8722 - val_acc: 0.6289\n",
      "Epoch 38/60\n",
      "106/106 [==============================] - 14s - loss: 0.0561 - acc: 0.9849 - val_loss: 2.1022 - val_acc: 0.6367\n",
      "Epoch 39/60\n",
      "106/106 [==============================] - 14s - loss: 0.0506 - acc: 0.9840 - val_loss: 1.9145 - val_acc: 0.6231\n",
      "Epoch 40/60\n",
      "106/106 [==============================] - 14s - loss: 0.0418 - acc: 0.9887 - val_loss: 1.7739 - val_acc: 0.6523\n",
      "Epoch 41/60\n",
      "106/106 [==============================] - 14s - loss: 0.0457 - acc: 0.9868 - val_loss: 2.0463 - val_acc: 0.6016\n",
      "Epoch 42/60\n",
      "106/106 [==============================] - 14s - loss: 0.0483 - acc: 0.9868 - val_loss: 2.2625 - val_acc: 0.6154\n",
      "Epoch 43/60\n",
      "106/106 [==============================] - 14s - loss: 0.0414 - acc: 0.9906 - val_loss: 2.2268 - val_acc: 0.6328\n",
      "Epoch 44/60\n",
      "106/106 [==============================] - 14s - loss: 0.0503 - acc: 0.9840 - val_loss: 1.9733 - val_acc: 0.6211\n",
      "Epoch 45/60\n",
      "106/106 [==============================] - 14s - loss: 0.0418 - acc: 0.9877 - val_loss: 2.0649 - val_acc: 0.6602\n",
      "Epoch 46/60\n",
      "106/106 [==============================] - 14s - loss: 0.0331 - acc: 0.9943 - val_loss: 2.0083 - val_acc: 0.6563\n",
      "Epoch 47/60\n",
      "106/106 [==============================] - 14s - loss: 0.0394 - acc: 0.9896 - val_loss: 2.3200 - val_acc: 0.5898\n",
      "Epoch 48/60\n",
      "106/106 [==============================] - 14s - loss: 0.0489 - acc: 0.9887 - val_loss: 2.4026 - val_acc: 0.6016\n",
      "Epoch 49/60\n",
      "106/106 [==============================] - 14s - loss: 0.0350 - acc: 0.9934 - val_loss: 2.5031 - val_acc: 0.5977\n",
      "Epoch 50/60\n",
      "106/106 [==============================] - 14s - loss: 0.0365 - acc: 0.9911 - val_loss: 2.1164 - val_acc: 0.6523\n",
      "Epoch 51/60\n",
      "106/106 [==============================] - 14s - loss: 0.0282 - acc: 0.9962 - val_loss: 2.4174 - val_acc: 0.5977\n",
      "Epoch 52/60\n",
      "106/106 [==============================] - 14s - loss: 0.0449 - acc: 0.9830 - val_loss: 2.1856 - val_acc: 0.6445\n",
      "Epoch 53/60\n",
      "106/106 [==============================] - 14s - loss: 0.0353 - acc: 0.9915 - val_loss: 2.2760 - val_acc: 0.6641\n",
      "Epoch 54/60\n",
      "106/106 [==============================] - 14s - loss: 0.0404 - acc: 0.9868 - val_loss: 2.5305 - val_acc: 0.5938\n",
      "Epoch 55/60\n",
      "106/106 [==============================] - 14s - loss: 0.0305 - acc: 0.9896 - val_loss: 2.3294 - val_acc: 0.6172\n",
      "Epoch 56/60\n",
      "106/106 [==============================] - 14s - loss: 0.0271 - acc: 0.9906 - val_loss: 2.7328 - val_acc: 0.6094\n",
      "Epoch 57/60\n",
      "106/106 [==============================] - 14s - loss: 0.0332 - acc: 0.9892 - val_loss: 2.1434 - val_acc: 0.6172\n",
      "Epoch 58/60\n",
      "106/106 [==============================] - 14s - loss: 0.0356 - acc: 0.9887 - val_loss: 2.2538 - val_acc: 0.6133\n",
      "Epoch 59/60\n",
      "106/106 [==============================] - 14s - loss: 0.0374 - acc: 0.9925 - val_loss: 2.7939 - val_acc: 0.5898\n",
      "Epoch 60/60\n",
      "106/106 [==============================] - 14s - loss: 0.0280 - acc: 0.9953 - val_loss: 2.2503 - val_acc: 0.6641\n"
     ]
    }
   ],
   "source": [
    "\n",
    "model = Sequential()\n",
    "model.add(Conv2D(32, (3, 3), input_shape=input_shape))\n",
    "model.add(Activation('relu'))\n",
    "model.add(MaxPooling2D(pool_size=(2, 2)))\n",
    "\n",
    "model.add(Conv2D(32, (3, 3)))\n",
    "model.add(Activation('relu'))\n",
    "model.add(MaxPooling2D(pool_size=(2, 2)))\n",
    "\n",
    "model.add(Conv2D(64, (3, 3)))\n",
    "model.add(Activation('relu'))\n",
    "model.add(MaxPooling2D(pool_size=(2, 2)))\n",
    "model.add(Dropout(0.2))\n",
    "\n",
    "\n",
    "model.add(Flatten())\n",
    "model.add(Dense(64,activation=\"relu\"))\n",
    "model.add(Dropout(0.5))\n",
    "model.add(Dense(3))\n",
    "model.add(Activation('softmax'))\n",
    "\n",
    "model.compile(loss='categorical_crossentropy',\n",
    "              optimizer='AdaGrad',\n",
    "              metrics=['accuracy'])\n",
    "\n",
    "train_datagen = ImageDataGenerator(\n",
    "    rescale=1. / 255)\n",
    "\n",
    "test_datagen = ImageDataGenerator(rescale=1. / 255)\n",
    "\n",
    "train_generator = train_datagen.flow_from_directory(\n",
    "    train_data_dir,\n",
    "    target_size=(img_width, img_height),\n",
    "    batch_size=batch_size,\n",
    "    class_mode='categorical')\n",
    "\n",
    "validation_generator = test_datagen.flow_from_directory(\n",
    "    validation_data_dir,\n",
    "    target_size=(img_width, img_height),\n",
    "    batch_size=batch_size,\n",
    "    class_mode='categorical')\n",
    "\n",
    "hist = model.fit_generator(\n",
    "    train_generator,\n",
    "    steps_per_epoch=nb_train_samples // batch_size,\n",
    "    epochs=epochs,\n",
    "    validation_data=validation_generator,\n",
    "    validation_steps=nb_validation_samples // batch_size)"
   ]
  },
  {
   "cell_type": "code",
   "execution_count": 14,
   "metadata": {
    "collapsed": false
   },
   "outputs": [
    {
     "data": {
      "text/plain": [
       "<matplotlib.legend.Legend at 0x16a1d080>"
      ]
     },
     "execution_count": 14,
     "metadata": {},
     "output_type": "execute_result"
    },
    {
     "data": {
      "image/png": "[encoded data removed]",
      "text/plain": [
       "<matplotlib.figure.Figure at 0x12d2bd68>"
      ]
     },
     "metadata": {},
     "output_type": "display_data"
    }
   ],
   "source": [
    "plt.plot(hist.history['acc'])\n",
    "plt.plot(hist.history['val_acc'])\n",
    "plt.title('model accuracy')\n",
    "plt.ylabel('accuracy')\n",
    "plt.xlabel('epoch')\n",
    "plt.legend(['train', 'test'], loc='upper left')"
   ]
  },
  {
   "cell_type": "code",
   "execution_count": 15,
   "metadata": {
    "collapsed": false
   },
   "outputs": [
    {
     "data": {
      "text/plain": [
       "<matplotlib.legend.Legend at 0x16a5d7b8>"
      ]
     },
     "execution_count": 15,
     "metadata": {},
     "output_type": "execute_result"
    },
    {
     "data": {
      "image/png": "[encoded data removed]",
      "text/plain": [
       "<matplotlib.figure.Figure at 0x16a33278>"
      ]
     },
     "metadata": {},
     "output_type": "display_data"
    }
   ],
   "source": [
    "plt.plot(hist.history['loss'])\n",
    "plt.plot(hist.history['val_loss'])\n",
    "plt.title('model loss')\n",
    "plt.ylabel('loss')\n",
    "plt.xlabel('epoch')\n",
    "plt.legend(['train', 'test'], loc='upper left')"
   ]
  },
  {
   "cell_type": "code",
   "execution_count": null,
   "metadata": {
    "collapsed": true
   },
   "outputs": [],
   "source": []
  }
 ],
 "metadata": {
  "anaconda-cloud": {},
  "kernelspec": {
   "display_name": "Python [Root]",
   "language": "python",
   "name": "Python [Root]"
  },
  "language_info": {
   "codemirror_mode": {
    "name": "ipython",
    "version": 3
   },
   "file_extension": ".py",
   "mimetype": "text/x-python",
   "name": "python",
   "nbconvert_exporter": "python",
   "pygments_lexer": "ipython3",
   "version": "3.5.2"
  }
 },
 "nbformat": 4,
 "nbformat_minor": 0
}
