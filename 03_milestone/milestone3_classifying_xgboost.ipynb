{
 "cells": [
  {
   "cell_type": "markdown",
   "metadata": {},
   "source": [
    "## AC209b / CS109b Final Project - Milestone 3 Part 01\n",
    "Yujiao Chen, Brian Ho, Jonathan Jay // 04/12/2017\n",
    "\n",
    "\n",
    "**Traditional statistical and machine learning methods, due Wednesday, April 19, 2017**\n",
    "\n",
    "Think about how you would address the genre prediction problem with traditional statistical or machine learning methods. This includes everything you learned about modeling in this course before the deep learning part. Implement your ideas and compare different classifiers. Report your results and discuss what challenges you faced and how you overcame them. What works and what does not? If there are parts that do not work as expected, make sure to discuss briefly what you think is the cause and how you would address this if you would have more time and resources. \n",
    "\n",
    "You do not necessarily need to use the movie posters for this step, but even without a background in computer vision, there are very simple features you can extract from the posters to help guide a traditional machine learning model. Think about the PCA lecture for example, or how to use clustering to extract color information. In addition to considering the movie posters it would be worthwhile to have a look at the metadata that IMDb provides. \n",
    "\n",
    "You could use Spark and the [ML library](https://spark.apache.org/docs/latest/ml-features.html#word2vec) to build your model features from the data. This may be especially beneficial if you use additional data, e.g., in text form.\n",
    "\n",
    "You also need to think about how you are going to evaluate your classifier. Which metrics or scores will you report to show how good the performance is?\n",
    "\n",
    "The notebook to submit this week should at least include:\n",
    "\n",
    "- Detailed description and implementation of two different models\n",
    "- Description of your performance metrics\n",
    "- Careful performance evaluations for both models\n",
    "- Visualizations of the metrics for performance evaluation\n",
    "- Discussion of the differences between the models, their strengths, weaknesses, etc. \n",
    "- Discussion of the performances you achieved, and how you might be able to improve them in the future"
   ]
  },
  {
   "cell_type": "code",
   "execution_count": 1,
   "metadata": {
    "collapsed": false
   },
   "outputs": [],
   "source": [
    "import pandas as pd\n",
    "import numpy as np\n",
    "\n",
    "import imdb\n",
    "import requests\n",
    "from ast import literal_eval\n",
    "from xgboost import XGBClassifier\n",
    "from sklearn.cross_validation import KFold\n",
    "from sklearn.metrics import accuracy_score"
   ]
  },
  {
   "cell_type": "code",
   "execution_count": 2,
   "metadata": {
    "collapsed": false
   },
   "outputs": [
    {
     "data": {
      "text/plain": [
       "{12: u'Adventure',\n",
       " 14: u'Fantasy',\n",
       " 16: u'Animation',\n",
       " 18: u'Drama',\n",
       " 27: u'Horror',\n",
       " 28: u'Action',\n",
       " 35: u'Comedy',\n",
       " 36: u'History',\n",
       " 37: u'Western',\n",
       " 53: u'Thriller',\n",
       " 80: u'Crime',\n",
       " 99: u'Documentary',\n",
       " 878: u'Science Fiction',\n",
       " 9648: u'Mystery',\n",
       " 10402: u'Music',\n",
       " 10749: u'Romance',\n",
       " 10751: u'Family',\n",
       " 10752: u'War',\n",
       " 10770: u'TV Movie'}"
      ]
     },
     "execution_count": 2,
     "metadata": {},
     "output_type": "execute_result"
    }
   ],
   "source": [
    "## Get the genre codes from IMDB\n",
    "payload = {'api_key': '9290a6fe9125b32e7bbe5512036be0d0'}\n",
    "r = requests.get('https://api.themoviedb.org/3/genre/movie/list', params=payload)\n",
    "\n",
    "genres = pd.DataFrame.from_dict(r.json()[\"genres\"])\n",
    "genres = genres.set_index(\"id\")\n",
    "\n",
    "genres = genres[\"name\"].to_dict()\n",
    "genres"
   ]
  },
  {
   "cell_type": "code",
   "execution_count": 3,
   "metadata": {
    "collapsed": false
   },
   "outputs": [
    {
     "data": {
      "text/plain": [
       "u'Adventure'"
      ]
     },
     "execution_count": 3,
     "metadata": {},
     "output_type": "execute_result"
    }
   ],
   "source": [
    "genres[12]"
   ]
  },
  {
   "cell_type": "code",
   "execution_count": 26,
   "metadata": {
    "collapsed": false
   },
   "outputs": [],
   "source": [
    "def get_names(existing, ids):\n",
    "    if str(existing).lower() == \"nan\":\n",
    "        print existing, ids\n",
    "        ids = literal_eval(ids)\n",
    "        names = []\n",
    "        for id_ in ids:\n",
    "            if id_ in genres.keys():\n",
    "                names.append(genres[id_])\n",
    "            else:\n",
    "                print id_, \" not found\"\n",
    "        print names\n",
    "        return names\n",
    "    \n",
    "    else:\n",
    "        return existing"
   ]
  },
  {
   "cell_type": "code",
   "execution_count": 17,
   "metadata": {
    "collapsed": false
   },
   "outputs": [
    {
     "name": "stdout",
     "output_type": "stream",
     "text": [
      "NaN [14, 28, 878, 10769]\n",
      "10769  not found\n",
      "[u'Fantasy', u'Action', u'Science Fiction']\n"
     ]
    },
    {
     "data": {
      "text/plain": [
       "[u'Fantasy', u'Action', u'Science Fiction']"
      ]
     },
     "execution_count": 17,
     "metadata": {},
     "output_type": "execute_result"
    }
   ],
   "source": [
    "get_names(\"NaN\", str([14, 28, 878, 10769]))"
   ]
  },
  {
   "cell_type": "code",
   "execution_count": 6,
   "metadata": {
    "collapsed": false
   },
   "outputs": [
    {
     "name": "stdout",
     "output_type": "stream",
     "text": [
      "<class 'pandas.core.frame.DataFrame'>\n",
      "RangeIndex: 990 entries, 0 to 989\n",
      "Data columns (total 21 columns):\n",
      "Unnamed: 0           990 non-null int64\n",
      "X                    990 non-null int64\n",
      "adult                990 non-null bool\n",
      "backdrop_path        981 non-null object\n",
      "genre_ids            990 non-null object\n",
      "id                   990 non-null int64\n",
      "original_language    990 non-null object\n",
      "original_title       990 non-null object\n",
      "overview             986 non-null object\n",
      "popularity           990 non-null float64\n",
      "poster_path          990 non-null object\n",
      "release_date         990 non-null object\n",
      "title                990 non-null object\n",
      "video                990 non-null bool\n",
      "vote_average         990 non-null float64\n",
      "vote_count           990 non-null int64\n",
      "genre_names          985 non-null object\n",
      "date                 990 non-null object\n",
      "year                 990 non-null int64\n",
      "genres               990 non-null object\n",
      "decade               990 non-null int64\n",
      "dtypes: bool(2), float64(2), int64(6), object(11)\n",
      "memory usage: 149.0+ KB\n"
     ]
    }
   ],
   "source": [
    "movies = pd.read_csv(\"Movie subset for poster analysis_990 movies.csv\")\n",
    "movies.info()"
   ]
  },
  {
   "cell_type": "code",
   "execution_count": 18,
   "metadata": {
    "collapsed": false
   },
   "outputs": [
    {
     "name": "stdout",
     "output_type": "stream",
     "text": [
      "679    NaN\n",
      "696    NaN\n",
      "704    NaN\n",
      "756    NaN\n",
      "765    NaN\n",
      "Name: genre_names, dtype: object\n"
     ]
    }
   ],
   "source": [
    "print movies[movies[\"genre_names\"].isnull()][\"genre_names\"]"
   ]
  },
  {
   "cell_type": "code",
   "execution_count": 27,
   "metadata": {
    "collapsed": false
   },
   "outputs": [
    {
     "name": "stdout",
     "output_type": "stream",
     "text": [
      "nan [14, 28, 878, 10769]\n",
      "10769  not found\n",
      "[u'Fantasy', u'Action', u'Science Fiction']\n",
      "nan [14, 18, 80, 878, 10769]\n",
      "10769  not found\n",
      "[u'Fantasy', u'Drama', u'Crime', u'Science Fiction']\n",
      "nan [878, 28, 10769]\n",
      "10769  not found\n",
      "[u'Science Fiction', u'Action']\n",
      "nan [28, 10769, 878]\n",
      "10769  not found\n",
      "[u'Action', u'Science Fiction']\n",
      "nan [10769, 878]\n",
      "10769  not found\n",
      "[u'Science Fiction']\n"
     ]
    }
   ],
   "source": [
    "movies[\"genre_names\"] = movies.apply(lambda x: get_names(x[\"genre_names\"], x[\"genre_ids\"]), axis=1)"
   ]
  },
  {
   "cell_type": "code",
   "execution_count": 31,
   "metadata": {
    "collapsed": false
   },
   "outputs": [
    {
     "data": {
      "text/html": [
       "<div>\n",
       "<table border=\"1\" class=\"dataframe\">\n",
       "  <thead>\n",
       "    <tr style=\"text-align: right;\">\n",
       "      <th></th>\n",
       "      <th>Unnamed: 0</th>\n",
       "      <th>X</th>\n",
       "      <th>adult</th>\n",
       "      <th>backdrop_path</th>\n",
       "      <th>genre_ids</th>\n",
       "      <th>id</th>\n",
       "      <th>original_language</th>\n",
       "      <th>original_title</th>\n",
       "      <th>overview</th>\n",
       "      <th>popularity</th>\n",
       "      <th>...</th>\n",
       "      <th>release_date</th>\n",
       "      <th>title</th>\n",
       "      <th>video</th>\n",
       "      <th>vote_average</th>\n",
       "      <th>vote_count</th>\n",
       "      <th>genre_names</th>\n",
       "      <th>date</th>\n",
       "      <th>year</th>\n",
       "      <th>genres</th>\n",
       "      <th>decade</th>\n",
       "    </tr>\n",
       "  </thead>\n",
       "  <tbody>\n",
       "    <tr>\n",
       "      <th>52</th>\n",
       "      <td>3574</td>\n",
       "      <td>11</td>\n",
       "      <td>False</td>\n",
       "      <td>NaN</td>\n",
       "      <td>[10749, 18]</td>\n",
       "      <td>340049</td>\n",
       "      <td>tr</td>\n",
       "      <td>Akşam Güneşi</td>\n",
       "      <td>NaN</td>\n",
       "      <td>1.430226</td>\n",
       "      <td>...</td>\n",
       "      <td>1966-01-01</td>\n",
       "      <td>Akşam Güneşi</td>\n",
       "      <td>False</td>\n",
       "      <td>0.0</td>\n",
       "      <td>0</td>\n",
       "      <td>[Romance, Drama]</td>\n",
       "      <td>1966-01-01</td>\n",
       "      <td>1966</td>\n",
       "      <td>10749, 18</td>\n",
       "      <td>1960</td>\n",
       "    </tr>\n",
       "    <tr>\n",
       "      <th>101</th>\n",
       "      <td>4879</td>\n",
       "      <td>16</td>\n",
       "      <td>False</td>\n",
       "      <td>NaN</td>\n",
       "      <td>[18, 10402, 10749]</td>\n",
       "      <td>300633</td>\n",
       "      <td>tr</td>\n",
       "      <td>Minik Serçe</td>\n",
       "      <td>NaN</td>\n",
       "      <td>1.445113</td>\n",
       "      <td>...</td>\n",
       "      <td>1979-01-01</td>\n",
       "      <td>Minik Serçe</td>\n",
       "      <td>False</td>\n",
       "      <td>6.0</td>\n",
       "      <td>1</td>\n",
       "      <td>[Drama, Music, Romance]</td>\n",
       "      <td>1979-01-01</td>\n",
       "      <td>1979</td>\n",
       "      <td>18, 10402, 10749</td>\n",
       "      <td>1970</td>\n",
       "    </tr>\n",
       "    <tr>\n",
       "      <th>226</th>\n",
       "      <td>7463</td>\n",
       "      <td>0</td>\n",
       "      <td>False</td>\n",
       "      <td>/cN2Yu3zZBYoDh21LMY1HQ8ZgEij.jpg</td>\n",
       "      <td>[18, 10749]</td>\n",
       "      <td>176147</td>\n",
       "      <td>de</td>\n",
       "      <td>Heimliche Liebe - Der Schüler und die Postbotin</td>\n",
       "      <td>NaN</td>\n",
       "      <td>4.495606</td>\n",
       "      <td>...</td>\n",
       "      <td>2005-11-28</td>\n",
       "      <td>Heimliche Liebe - Der Schüler und die Postbotin</td>\n",
       "      <td>False</td>\n",
       "      <td>1.0</td>\n",
       "      <td>1</td>\n",
       "      <td>[Drama, Romance]</td>\n",
       "      <td>2005-11-28</td>\n",
       "      <td>2005</td>\n",
       "      <td>18, 10749</td>\n",
       "      <td>2000</td>\n",
       "    </tr>\n",
       "    <tr>\n",
       "      <th>285</th>\n",
       "      <td>8588</td>\n",
       "      <td>5</td>\n",
       "      <td>False</td>\n",
       "      <td>/3t8TinHXBnPoBFKzOPumoM29eTm.jpg</td>\n",
       "      <td>[35, 10749]</td>\n",
       "      <td>416252</td>\n",
       "      <td>ja</td>\n",
       "      <td>イタズラなKiss THE MOVIE ～ハイスクール編～</td>\n",
       "      <td>NaN</td>\n",
       "      <td>4.817975</td>\n",
       "      <td>...</td>\n",
       "      <td>2016-11-25</td>\n",
       "      <td>Mischievous Kiss The Movie: High School</td>\n",
       "      <td>False</td>\n",
       "      <td>1.0</td>\n",
       "      <td>1</td>\n",
       "      <td>[Comedy, Romance]</td>\n",
       "      <td>2016-11-25</td>\n",
       "      <td>2016</td>\n",
       "      <td>35, 10749</td>\n",
       "      <td>2010</td>\n",
       "    </tr>\n",
       "  </tbody>\n",
       "</table>\n",
       "<p>4 rows × 21 columns</p>\n",
       "</div>"
      ],
      "text/plain": [
       "     Unnamed: 0   X  adult                     backdrop_path  \\\n",
       "52         3574  11  False                               NaN   \n",
       "101        4879  16  False                               NaN   \n",
       "226        7463   0  False  /cN2Yu3zZBYoDh21LMY1HQ8ZgEij.jpg   \n",
       "285        8588   5  False  /3t8TinHXBnPoBFKzOPumoM29eTm.jpg   \n",
       "\n",
       "              genre_ids      id original_language  \\\n",
       "52          [10749, 18]  340049                tr   \n",
       "101  [18, 10402, 10749]  300633                tr   \n",
       "226         [18, 10749]  176147                de   \n",
       "285         [35, 10749]  416252                ja   \n",
       "\n",
       "                                      original_title overview  popularity  \\\n",
       "52                                      Akşam Güneşi      NaN    1.430226   \n",
       "101                                      Minik Serçe      NaN    1.445113   \n",
       "226  Heimliche Liebe - Der Schüler und die Postbotin      NaN    4.495606   \n",
       "285                    イタズラなKiss THE MOVIE ～ハイスクール編～      NaN    4.817975   \n",
       "\n",
       "     ...   release_date                                            title  \\\n",
       "52   ...     1966-01-01                                     Akşam Güneşi   \n",
       "101  ...     1979-01-01                                      Minik Serçe   \n",
       "226  ...     2005-11-28  Heimliche Liebe - Der Schüler und die Postbotin   \n",
       "285  ...     2016-11-25          Mischievous Kiss The Movie: High School   \n",
       "\n",
       "     video vote_average  vote_count              genre_names        date  \\\n",
       "52   False          0.0           0         [Romance, Drama]  1966-01-01   \n",
       "101  False          6.0           1  [Drama, Music, Romance]  1979-01-01   \n",
       "226  False          1.0           1         [Drama, Romance]  2005-11-28   \n",
       "285  False          1.0           1        [Comedy, Romance]  2016-11-25   \n",
       "\n",
       "     year            genres decade  \n",
       "52   1966         10749, 18   1960  \n",
       "101  1979  18, 10402, 10749   1970  \n",
       "226  2005         18, 10749   2000  \n",
       "285  2016         35, 10749   2010  \n",
       "\n",
       "[4 rows x 21 columns]"
      ]
     },
     "execution_count": 31,
     "metadata": {},
     "output_type": "execute_result"
    }
   ],
   "source": [
    "movies[movies[\"overview\"].isnull()]"
   ]
  },
  {
   "cell_type": "code",
   "execution_count": 32,
   "metadata": {
    "collapsed": true
   },
   "outputs": [],
   "source": [
    "movies.to_csv(\"Movie subset for poster analysis_990 movies_cleaned.csv\")"
   ]
  }
 ],
 "metadata": {
  "anaconda-cloud": {},
  "kernelspec": {
   "display_name": "Python [Root]",
   "language": "python",
   "name": "Python [Root]"
  },
  "language_info": {
   "codemirror_mode": {
    "name": "ipython",
    "version": 2
   },
   "file_extension": ".py",
   "mimetype": "text/x-python",
   "name": "python",
   "nbconvert_exporter": "python",
   "pygments_lexer": "ipython2",
   "version": "2.7.12"
  }
 },
 "nbformat": 4,
 "nbformat_minor": 2
}
