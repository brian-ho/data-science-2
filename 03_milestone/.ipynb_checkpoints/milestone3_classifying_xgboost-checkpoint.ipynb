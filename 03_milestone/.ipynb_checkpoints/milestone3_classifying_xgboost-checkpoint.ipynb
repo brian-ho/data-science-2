{
 "cells": [
  {
   "cell_type": "markdown",
   "metadata": {},
   "source": [
    "## AC209b / CS109b Final Project - Milestone 3 Part 01\n",
    "Yujiao Chen, Brian Ho, Jonathan Jay // 04/12/2017\n",
    "\n",
    "\n",
    "**Traditional statistical and machine learning methods, due Wednesday, April 19, 2017**\n",
    "\n",
    "Think about how you would address the genre prediction problem with traditional statistical or machine learning methods. This includes everything you learned about modeling in this course before the deep learning part. Implement your ideas and compare different classifiers. Report your results and discuss what challenges you faced and how you overcame them. What works and what does not? If there are parts that do not work as expected, make sure to discuss briefly what you think is the cause and how you would address this if you would have more time and resources. \n",
    "\n",
    "You do not necessarily need to use the movie posters for this step, but even without a background in computer vision, there are very simple features you can extract from the posters to help guide a traditional machine learning model. Think about the PCA lecture for example, or how to use clustering to extract color information. In addition to considering the movie posters it would be worthwhile to have a look at the metadata that IMDb provides. \n",
    "\n",
    "You could use Spark and the [ML library](https://spark.apache.org/docs/latest/ml-features.html#word2vec) to build your model features from the data. This may be especially beneficial if you use additional data, e.g., in text form.\n",
    "\n",
    "You also need to think about how you are going to evaluate your classifier. Which metrics or scores will you report to show how good the performance is?\n",
    "\n",
    "The notebook to submit this week should at least include:\n",
    "\n",
    "- Detailed description and implementation of two different models\n",
    "- Description of your performance metrics\n",
    "- Careful performance evaluations for both models\n",
    "- Visualizations of the metrics for performance evaluation\n",
    "- Discussion of the differences between the models, their strengths, weaknesses, etc. \n",
    "- Discussion of the performances you achieved, and how you might be able to improve them in the future"
   ]
  },
  {
   "cell_type": "code",
   "execution_count": 94,
   "metadata": {
    "collapsed": false
   },
   "outputs": [],
   "source": [
    "import pandas as pd\n",
    "import numpy as np\n",
    "\n",
    "import imdb\n",
    "import requests\n",
    "from ast import literal_eval\n",
    "from xgboost import XGBClassifier\n",
    "from sklearn.cross_validation import KFold\n",
    "from sklearn.metrics import accuracy_score\n",
    "from sklearn.preprocessing import LabelEncoder"
   ]
  },
  {
   "cell_type": "code",
   "execution_count": 2,
   "metadata": {
    "collapsed": false
   },
   "outputs": [
    {
     "data": {
      "text/plain": [
       "{12: u'Adventure',\n",
       " 14: u'Fantasy',\n",
       " 16: u'Animation',\n",
       " 18: u'Drama',\n",
       " 27: u'Horror',\n",
       " 28: u'Action',\n",
       " 35: u'Comedy',\n",
       " 36: u'History',\n",
       " 37: u'Western',\n",
       " 53: u'Thriller',\n",
       " 80: u'Crime',\n",
       " 99: u'Documentary',\n",
       " 878: u'Science Fiction',\n",
       " 9648: u'Mystery',\n",
       " 10402: u'Music',\n",
       " 10749: u'Romance',\n",
       " 10751: u'Family',\n",
       " 10752: u'War',\n",
       " 10770: u'TV Movie'}"
      ]
     },
     "execution_count": 2,
     "metadata": {},
     "output_type": "execute_result"
    }
   ],
   "source": [
    "## Get the genre codes from IMDB\n",
    "payload = {'api_key': '9290a6fe9125b32e7bbe5512036be0d0'}\n",
    "r = requests.get('https://api.themoviedb.org/3/genre/movie/list', params=payload)\n",
    "\n",
    "genres = pd.DataFrame.from_dict(r.json()[\"genres\"])\n",
    "genres = genres.set_index(\"id\")\n",
    "\n",
    "genres = genres[\"name\"].to_dict()\n",
    "genres"
   ]
  },
  {
   "cell_type": "code",
   "execution_count": 36,
   "metadata": {
    "collapsed": false
   },
   "outputs": [
    {
     "name": "stdout",
     "output_type": "stream",
     "text": [
      "10769  not found\n"
     ]
    },
    {
     "data": {
      "text/plain": [
       "[u'Fantasy', u'Action', u'Science Fiction']"
      ]
     },
     "execution_count": 36,
     "metadata": {},
     "output_type": "execute_result"
    }
   ],
   "source": [
    "# a function to add names to data rows\n",
    "def get_names(existing, ids):\n",
    "    if str(existing).lower() == \"nan\":\n",
    "        ids = literal_eval(ids)\n",
    "        names = []\n",
    "        for id_ in ids:\n",
    "            if id_ in genres.keys():\n",
    "                names.append(genres[id_])\n",
    "            else:\n",
    "                print id_, \" not found\"\n",
    "        return names\n",
    "    \n",
    "    else:\n",
    "        return existing\n",
    "    \n",
    "get_names(\"NaN\", str([14, 28, 878, 10769]))"
   ]
  },
  {
   "cell_type": "code",
   "execution_count": 37,
   "metadata": {
    "collapsed": false
   },
   "outputs": [
    {
     "name": "stdout",
     "output_type": "stream",
     "text": [
      "<class 'pandas.core.frame.DataFrame'>\n",
      "RangeIndex: 990 entries, 0 to 989\n",
      "Data columns (total 21 columns):\n",
      "Unnamed: 0           990 non-null int64\n",
      "X                    990 non-null int64\n",
      "adult                990 non-null bool\n",
      "backdrop_path        981 non-null object\n",
      "genre_ids            990 non-null object\n",
      "id                   990 non-null int64\n",
      "original_language    990 non-null object\n",
      "original_title       990 non-null object\n",
      "overview             986 non-null object\n",
      "popularity           990 non-null float64\n",
      "poster_path          990 non-null object\n",
      "release_date         990 non-null object\n",
      "title                990 non-null object\n",
      "video                990 non-null bool\n",
      "vote_average         990 non-null float64\n",
      "vote_count           990 non-null int64\n",
      "genre_names          985 non-null object\n",
      "date                 990 non-null object\n",
      "year                 990 non-null int64\n",
      "genres               990 non-null object\n",
      "decade               990 non-null int64\n",
      "dtypes: bool(2), float64(2), int64(6), object(11)\n",
      "memory usage: 149.0+ KB\n"
     ]
    }
   ],
   "source": [
    "movies = pd.read_csv(\"Movie subset for poster analysis_990 movies.csv\")\n",
    "movies.info()"
   ]
  },
  {
   "cell_type": "code",
   "execution_count": 38,
   "metadata": {
    "collapsed": false
   },
   "outputs": [
    {
     "name": "stdout",
     "output_type": "stream",
     "text": [
      "10769  not found\n",
      "10769  not found\n",
      "10769  not found\n",
      "10769  not found\n",
      "10769  not found\n"
     ]
    }
   ],
   "source": [
    "movies[\"genre_names\"] = movies.apply(lambda x: get_names(x[\"genre_names\"], x[\"genre_ids\"]), axis=1)"
   ]
  },
  {
   "cell_type": "code",
   "execution_count": 32,
   "metadata": {
    "collapsed": true
   },
   "outputs": [],
   "source": [
    "movies.to_csv(\"Movie subset for poster analysis_990 movies_cleaned.csv\")"
   ]
  },
  {
   "cell_type": "code",
   "execution_count": 70,
   "metadata": {
    "collapsed": false
   },
   "outputs": [],
   "source": [
    "movies.rename(columns={\"Unnamed: 0\":\"result_id\"}, inplace = True)"
   ]
  },
  {
   "cell_type": "code",
   "execution_count": 73,
   "metadata": {
    "collapsed": false
   },
   "outputs": [
    {
     "data": {
      "text/html": [
       "<div>\n",
       "<table border=\"1\" class=\"dataframe\">\n",
       "  <thead>\n",
       "    <tr style=\"text-align: right;\">\n",
       "      <th></th>\n",
       "      <th>result_id</th>\n",
       "      <th>X</th>\n",
       "      <th>adult</th>\n",
       "      <th>backdrop_path</th>\n",
       "      <th>genre_ids</th>\n",
       "      <th>id</th>\n",
       "      <th>original_language</th>\n",
       "      <th>original_title</th>\n",
       "      <th>overview</th>\n",
       "      <th>popularity</th>\n",
       "      <th>...</th>\n",
       "      <th>release_date</th>\n",
       "      <th>title</th>\n",
       "      <th>video</th>\n",
       "      <th>vote_average</th>\n",
       "      <th>vote_count</th>\n",
       "      <th>genre_names</th>\n",
       "      <th>date</th>\n",
       "      <th>year</th>\n",
       "      <th>genres</th>\n",
       "      <th>decade</th>\n",
       "    </tr>\n",
       "  </thead>\n",
       "  <tbody>\n",
       "    <tr>\n",
       "      <th>0</th>\n",
       "      <td>3063</td>\n",
       "      <td>0</td>\n",
       "      <td>False</td>\n",
       "      <td>/haHULz59jdG4OVmqHjZ01z7HEit.jpg</td>\n",
       "      <td>[35, 18, 10749]</td>\n",
       "      <td>164</td>\n",
       "      <td>en</td>\n",
       "      <td>Breakfast at Tiffany's</td>\n",
       "      <td>Fortune hunter Holly Golightly finds herself c...</td>\n",
       "      <td>3.978771</td>\n",
       "      <td>...</td>\n",
       "      <td>1961-10-05</td>\n",
       "      <td>Breakfast at Tiffany's</td>\n",
       "      <td>False</td>\n",
       "      <td>7.5</td>\n",
       "      <td>769</td>\n",
       "      <td>[Comedy, Drama, Romance]</td>\n",
       "      <td>1961-10-05</td>\n",
       "      <td>1961</td>\n",
       "      <td>35, 18, 10749</td>\n",
       "      <td>1960</td>\n",
       "    </tr>\n",
       "    <tr>\n",
       "      <th>1</th>\n",
       "      <td>3463</td>\n",
       "      <td>0</td>\n",
       "      <td>False</td>\n",
       "      <td>/evAe6OMQgRkrVWxjLktYy1tIARW.jpg</td>\n",
       "      <td>[18, 10749, 10752]</td>\n",
       "      <td>907</td>\n",
       "      <td>en</td>\n",
       "      <td>Doctor Zhivago</td>\n",
       "      <td>Doctor Zhivago is the filmed adapation of the ...</td>\n",
       "      <td>3.292234</td>\n",
       "      <td>...</td>\n",
       "      <td>1965-12-22</td>\n",
       "      <td>Doctor Zhivago</td>\n",
       "      <td>False</td>\n",
       "      <td>7.3</td>\n",
       "      <td>193</td>\n",
       "      <td>[Drama, Romance, War]</td>\n",
       "      <td>1965-12-22</td>\n",
       "      <td>1965</td>\n",
       "      <td>18, 10749, 10752</td>\n",
       "      <td>1960</td>\n",
       "    </tr>\n",
       "    <tr>\n",
       "      <th>2</th>\n",
       "      <td>2964</td>\n",
       "      <td>1</td>\n",
       "      <td>False</td>\n",
       "      <td>/vF4d4hAKMcrDE4Y6zLwUSijp32g.jpg</td>\n",
       "      <td>[35, 18, 10749]</td>\n",
       "      <td>284</td>\n",
       "      <td>en</td>\n",
       "      <td>The Apartment</td>\n",
       "      <td>Bud Baxter is a minor clerk in a huge New York...</td>\n",
       "      <td>3.270765</td>\n",
       "      <td>...</td>\n",
       "      <td>1960-06-15</td>\n",
       "      <td>The Apartment</td>\n",
       "      <td>False</td>\n",
       "      <td>8.0</td>\n",
       "      <td>383</td>\n",
       "      <td>[Comedy, Drama, Romance]</td>\n",
       "      <td>1960-06-15</td>\n",
       "      <td>1960</td>\n",
       "      <td>35, 18, 10749</td>\n",
       "      <td>1960</td>\n",
       "    </tr>\n",
       "    <tr>\n",
       "      <th>3</th>\n",
       "      <td>3663</td>\n",
       "      <td>0</td>\n",
       "      <td>False</td>\n",
       "      <td>/sEWKMIlgUCCb2n5mT0Mf71DRKLR.jpg</td>\n",
       "      <td>[35, 18, 10749]</td>\n",
       "      <td>37247</td>\n",
       "      <td>en</td>\n",
       "      <td>The Graduate</td>\n",
       "      <td>Recent college graduate Benjamin Braddock is s...</td>\n",
       "      <td>3.257459</td>\n",
       "      <td>...</td>\n",
       "      <td>1967-12-21</td>\n",
       "      <td>The Graduate</td>\n",
       "      <td>False</td>\n",
       "      <td>7.5</td>\n",
       "      <td>637</td>\n",
       "      <td>[Comedy, Drama, Romance]</td>\n",
       "      <td>1967-12-21</td>\n",
       "      <td>1967</td>\n",
       "      <td>35, 18, 10749</td>\n",
       "      <td>1960</td>\n",
       "    </tr>\n",
       "    <tr>\n",
       "      <th>4</th>\n",
       "      <td>3363</td>\n",
       "      <td>0</td>\n",
       "      <td>False</td>\n",
       "      <td>/soKwqxI1j5rNkVfDeuarmTHetcH.jpg</td>\n",
       "      <td>[18, 10751, 10402, 10749]</td>\n",
       "      <td>11113</td>\n",
       "      <td>en</td>\n",
       "      <td>My Fair Lady</td>\n",
       "      <td>A misogynistic and snobbish phonetics professo...</td>\n",
       "      <td>3.092740</td>\n",
       "      <td>...</td>\n",
       "      <td>1964-10-21</td>\n",
       "      <td>My Fair Lady</td>\n",
       "      <td>False</td>\n",
       "      <td>7.4</td>\n",
       "      <td>269</td>\n",
       "      <td>[Drama, Family, Music, Romance]</td>\n",
       "      <td>1964-10-21</td>\n",
       "      <td>1964</td>\n",
       "      <td>18, 10751, 10402, 10749</td>\n",
       "      <td>1960</td>\n",
       "    </tr>\n",
       "  </tbody>\n",
       "</table>\n",
       "<p>5 rows × 21 columns</p>\n",
       "</div>"
      ],
      "text/plain": [
       "   result_id  X  adult                     backdrop_path  \\\n",
       "0       3063  0  False  /haHULz59jdG4OVmqHjZ01z7HEit.jpg   \n",
       "1       3463  0  False  /evAe6OMQgRkrVWxjLktYy1tIARW.jpg   \n",
       "2       2964  1  False  /vF4d4hAKMcrDE4Y6zLwUSijp32g.jpg   \n",
       "3       3663  0  False  /sEWKMIlgUCCb2n5mT0Mf71DRKLR.jpg   \n",
       "4       3363  0  False  /soKwqxI1j5rNkVfDeuarmTHetcH.jpg   \n",
       "\n",
       "                   genre_ids     id original_language          original_title  \\\n",
       "0            [35, 18, 10749]    164                en  Breakfast at Tiffany's   \n",
       "1         [18, 10749, 10752]    907                en          Doctor Zhivago   \n",
       "2            [35, 18, 10749]    284                en           The Apartment   \n",
       "3            [35, 18, 10749]  37247                en            The Graduate   \n",
       "4  [18, 10751, 10402, 10749]  11113                en            My Fair Lady   \n",
       "\n",
       "                                            overview  popularity  ...    \\\n",
       "0  Fortune hunter Holly Golightly finds herself c...    3.978771  ...     \n",
       "1  Doctor Zhivago is the filmed adapation of the ...    3.292234  ...     \n",
       "2  Bud Baxter is a minor clerk in a huge New York...    3.270765  ...     \n",
       "3  Recent college graduate Benjamin Braddock is s...    3.257459  ...     \n",
       "4  A misogynistic and snobbish phonetics professo...    3.092740  ...     \n",
       "\n",
       "  release_date                   title  video vote_average  vote_count  \\\n",
       "0   1961-10-05  Breakfast at Tiffany's  False          7.5         769   \n",
       "1   1965-12-22          Doctor Zhivago  False          7.3         193   \n",
       "2   1960-06-15           The Apartment  False          8.0         383   \n",
       "3   1967-12-21            The Graduate  False          7.5         637   \n",
       "4   1964-10-21            My Fair Lady  False          7.4         269   \n",
       "\n",
       "                       genre_names        date  year                   genres  \\\n",
       "0         [Comedy, Drama, Romance]  1961-10-05  1961            35, 18, 10749   \n",
       "1            [Drama, Romance, War]  1965-12-22  1965         18, 10749, 10752   \n",
       "2         [Comedy, Drama, Romance]  1960-06-15  1960            35, 18, 10749   \n",
       "3         [Comedy, Drama, Romance]  1967-12-21  1967            35, 18, 10749   \n",
       "4  [Drama, Family, Music, Romance]  1964-10-21  1964  18, 10751, 10402, 10749   \n",
       "\n",
       "  decade  \n",
       "0   1960  \n",
       "1   1960  \n",
       "2   1960  \n",
       "3   1960  \n",
       "4   1960  \n",
       "\n",
       "[5 rows x 21 columns]"
      ]
     },
     "execution_count": 73,
     "metadata": {},
     "output_type": "execute_result"
    }
   ],
   "source": [
    "movies.head()"
   ]
  },
  {
   "cell_type": "code",
   "execution_count": 76,
   "metadata": {
    "collapsed": false
   },
   "outputs": [
    {
     "data": {
      "text/plain": [
       "0                               [Comedy, Drama, Romance]\n",
       "1                                  [Drama, Romance, War]\n",
       "2                               [Comedy, Drama, Romance]\n",
       "3                               [Comedy, Drama, Romance]\n",
       "4                        [Drama, Family, Music, Romance]\n",
       "5                              [Drama, History, Romance]\n",
       "6                        [Drama, Family, Music, Romance]\n",
       "7                               [Comedy, Drama, Romance]\n",
       "8                       [Comedy, Family, Music, Romance]\n",
       "9                   [Comedy, Mystery, Romance, Thriller]\n",
       "10                           [Adventure, Music, Romance]\n",
       "11                  [Adventure, Drama, History, Romance]\n",
       "12                            [Comedy, Romance, Western]\n",
       "13                     [Romance, Crime, Thriller, Drama]\n",
       "14                                      [Drama, Romance]\n",
       "15                                      [Romance, Drama]\n",
       "16             [Drama, History, Romance, War, Adventure]\n",
       "17                          [Action, Adventure, Romance]\n",
       "18                                     [Comedy, Romance]\n",
       "19                               [Romance, Drama, Music]\n",
       "20                 [Romance, Western, Comedy, Adventure]\n",
       "21                         [Adventure, Romance, History]\n",
       "22                              [Comedy, Crime, Romance]\n",
       "23                         [Adventure, Romance, History]\n",
       "24                                     [Comedy, Romance]\n",
       "25            [Mystery, Drama, Romance, Thriller, Crime]\n",
       "26                                     [Romance, Comedy]\n",
       "27                                      [Drama, Romance]\n",
       "28                              [Comedy, Music, Romance]\n",
       "29                              [Comedy, Music, Romance]\n",
       "                             ...                        \n",
       "960                 [Action, Adventure, Science Fiction]\n",
       "961                    [Action, Comedy, Science Fiction]\n",
       "962                             [Drama, Science Fiction]\n",
       "963    [Action, Family, Science Fiction, Adventure, M...\n",
       "964    [Science Fiction, Action, Adventure, Fantasy, ...\n",
       "965                         [Adventure, Science Fiction]\n",
       "966       [Action, Adventure, Science Fiction, Thriller]\n",
       "967    [Action, Adventure, Animation, Comedy, Family,...\n",
       "968                         [Adventure, Science Fiction]\n",
       "969                 [Action, Adventure, Science Fiction]\n",
       "970                 [Action, Adventure, Science Fiction]\n",
       "971                 [Action, Adventure, Science Fiction]\n",
       "972                            [Action, Science Fiction]\n",
       "973        [Action, Adventure, Fantasy, Science Fiction]\n",
       "974           [Thriller, Action, Drama, Science Fiction]\n",
       "975                   [Science Fiction, Thriller, Drama]\n",
       "976                 [Action, Adventure, Science Fiction]\n",
       "977                 [Adventure, Action, Science Fiction]\n",
       "978                         [Adventure, Science Fiction]\n",
       "979                                    [Science Fiction]\n",
       "980                 [Action, Adventure, Science Fiction]\n",
       "981                  [Action, Science Fiction, Thriller]\n",
       "982                 [Science Fiction, Action, Adventure]\n",
       "983                  [Action, Thriller, Science Fiction]\n",
       "984                 [Action, Adventure, Science Fiction]\n",
       "985        [Science Fiction, Fantasy, Action, Adventure]\n",
       "986                [Science Fiction, Adventure, Mystery]\n",
       "987                 [Adventure, Action, Science Fiction]\n",
       "988                  [Action, Thriller, Science Fiction]\n",
       "989          [Thriller, Science Fiction, Drama, Mystery]\n",
       "Name: genre_names, dtype: object"
      ]
     },
     "execution_count": 76,
     "metadata": {},
     "output_type": "execute_result"
    }
   ],
   "source": [
    "movies.genre_names"
   ]
  },
  {
   "cell_type": "code",
   "execution_count": 147,
   "metadata": {
    "collapsed": false
   },
   "outputs": [],
   "source": [
    "X = movies[[u'adult', u'id', u'popularity',\n",
    "            u'year',\n",
    "            u'vote_average', u'vote_count']]"
   ]
  },
  {
   "cell_type": "code",
   "execution_count": 144,
   "metadata": {
    "collapsed": false
   },
   "outputs": [
    {
     "name": "stdout",
     "output_type": "stream",
     "text": [
      "<class 'pandas.core.frame.DataFrame'>\n",
      "RangeIndex: 990 entries, 0 to 989\n",
      "Data columns (total 7 columns):\n",
      "adult           990 non-null bool\n",
      "id              990 non-null int64\n",
      "overview        986 non-null object\n",
      "popularity      990 non-null float64\n",
      "year            990 non-null int64\n",
      "vote_average    990 non-null float64\n",
      "vote_count      990 non-null int64\n",
      "dtypes: bool(1), float64(2), int64(3), object(1)\n",
      "memory usage: 47.4+ KB\n"
     ]
    }
   ],
   "source": [
    "X.info()"
   ]
  },
  {
   "cell_type": "code",
   "execution_count": 114,
   "metadata": {
    "collapsed": false
   },
   "outputs": [],
   "source": [
    "le = LabelEncoder()\n",
    "le.fit(movies[\"genre_names\"])\n",
    "Y = le.transform(movies[\"genre_names\"])"
   ]
  },
  {
   "cell_type": "code",
   "execution_count": 81,
   "metadata": {
    "collapsed": false
   },
   "outputs": [
    {
     "name": "stdout",
     "output_type": "stream",
     "text": [
      "2\n"
     ]
    }
   ],
   "source": [
    "kf = KFold(len(X), n_folds=2)\n",
    "print len(kf)"
   ]
  },
  {
   "cell_type": "code",
   "execution_count": 149,
   "metadata": {
    "collapsed": false
   },
   "outputs": [
    {
     "ename": "KeyboardInterrupt",
     "evalue": "",
     "output_type": "error",
     "traceback": [
      "\u001b[0;31m---------------------------------------------------------------------------\u001b[0m",
      "\u001b[0;31mKeyboardInterrupt\u001b[0m                         Traceback (most recent call last)",
      "\u001b[0;32m<ipython-input-149-9e0d51016fec>\u001b[0m in \u001b[0;36m<module>\u001b[0;34m()\u001b[0m\n\u001b[1;32m      4\u001b[0m \u001b[0;34m\u001b[0m\u001b[0m\n\u001b[1;32m      5\u001b[0m     \u001b[0mmodel\u001b[0m \u001b[0;34m=\u001b[0m \u001b[0mXGBClassifier\u001b[0m\u001b[0;34m(\u001b[0m\u001b[0;34m)\u001b[0m\u001b[0;34m\u001b[0m\u001b[0m\n\u001b[0;32m----> 6\u001b[0;31m     \u001b[0mmodel\u001b[0m\u001b[0;34m.\u001b[0m\u001b[0mfit\u001b[0m\u001b[0;34m(\u001b[0m\u001b[0mx_train\u001b[0m\u001b[0;34m,\u001b[0m \u001b[0my_train\u001b[0m\u001b[0;34m)\u001b[0m\u001b[0;34m\u001b[0m\u001b[0m\n\u001b[0m\u001b[1;32m      7\u001b[0m \u001b[0;34m\u001b[0m\u001b[0m\n\u001b[1;32m      8\u001b[0m     \u001b[0my_pred\u001b[0m \u001b[0;34m=\u001b[0m \u001b[0mmodel\u001b[0m\u001b[0;34m.\u001b[0m\u001b[0mpredict\u001b[0m\u001b[0;34m(\u001b[0m\u001b[0mx_test\u001b[0m\u001b[0;34m)\u001b[0m\u001b[0;34m\u001b[0m\u001b[0m\n",
      "\u001b[0;32m/Users/brianho/xgboost/python-package/xgboost/sklearn.pyc\u001b[0m in \u001b[0;36mfit\u001b[0;34m(self, X, y, sample_weight, eval_set, eval_metric, early_stopping_rounds, verbose)\u001b[0m\n\u001b[1;32m    462\u001b[0m                               \u001b[0mearly_stopping_rounds\u001b[0m\u001b[0;34m=\u001b[0m\u001b[0mearly_stopping_rounds\u001b[0m\u001b[0;34m,\u001b[0m\u001b[0;34m\u001b[0m\u001b[0m\n\u001b[1;32m    463\u001b[0m                               \u001b[0mevals_result\u001b[0m\u001b[0;34m=\u001b[0m\u001b[0mevals_result\u001b[0m\u001b[0;34m,\u001b[0m \u001b[0mobj\u001b[0m\u001b[0;34m=\u001b[0m\u001b[0mobj\u001b[0m\u001b[0;34m,\u001b[0m \u001b[0mfeval\u001b[0m\u001b[0;34m=\u001b[0m\u001b[0mfeval\u001b[0m\u001b[0;34m,\u001b[0m\u001b[0;34m\u001b[0m\u001b[0m\n\u001b[0;32m--> 464\u001b[0;31m                               verbose_eval=verbose)\n\u001b[0m\u001b[1;32m    465\u001b[0m \u001b[0;34m\u001b[0m\u001b[0m\n\u001b[1;32m    466\u001b[0m         \u001b[0mself\u001b[0m\u001b[0;34m.\u001b[0m\u001b[0mobjective\u001b[0m \u001b[0;34m=\u001b[0m \u001b[0mxgb_options\u001b[0m\u001b[0;34m[\u001b[0m\u001b[0;34m\"objective\"\u001b[0m\u001b[0;34m]\u001b[0m\u001b[0;34m\u001b[0m\u001b[0m\n",
      "\u001b[0;32m/Users/brianho/xgboost/python-package/xgboost/training.pyc\u001b[0m in \u001b[0;36mtrain\u001b[0;34m(params, dtrain, num_boost_round, evals, obj, feval, maximize, early_stopping_rounds, evals_result, verbose_eval, xgb_model, callbacks, learning_rates)\u001b[0m\n\u001b[1;32m    202\u001b[0m                            \u001b[0mevals\u001b[0m\u001b[0;34m=\u001b[0m\u001b[0mevals\u001b[0m\u001b[0;34m,\u001b[0m\u001b[0;34m\u001b[0m\u001b[0m\n\u001b[1;32m    203\u001b[0m                            \u001b[0mobj\u001b[0m\u001b[0;34m=\u001b[0m\u001b[0mobj\u001b[0m\u001b[0;34m,\u001b[0m \u001b[0mfeval\u001b[0m\u001b[0;34m=\u001b[0m\u001b[0mfeval\u001b[0m\u001b[0;34m,\u001b[0m\u001b[0;34m\u001b[0m\u001b[0m\n\u001b[0;32m--> 204\u001b[0;31m                            xgb_model=xgb_model, callbacks=callbacks)\n\u001b[0m\u001b[1;32m    205\u001b[0m \u001b[0;34m\u001b[0m\u001b[0m\n\u001b[1;32m    206\u001b[0m \u001b[0;34m\u001b[0m\u001b[0m\n",
      "\u001b[0;32m/Users/brianho/xgboost/python-package/xgboost/training.pyc\u001b[0m in \u001b[0;36m_train_internal\u001b[0;34m(params, dtrain, num_boost_round, evals, obj, feval, xgb_model, callbacks)\u001b[0m\n\u001b[1;32m     72\u001b[0m         \u001b[0;31m# Skip the first update if it is a recovery step.\u001b[0m\u001b[0;34m\u001b[0m\u001b[0;34m\u001b[0m\u001b[0m\n\u001b[1;32m     73\u001b[0m         \u001b[0;32mif\u001b[0m \u001b[0mversion\u001b[0m \u001b[0;34m%\u001b[0m \u001b[0;36m2\u001b[0m \u001b[0;34m==\u001b[0m \u001b[0;36m0\u001b[0m\u001b[0;34m:\u001b[0m\u001b[0;34m\u001b[0m\u001b[0m\n\u001b[0;32m---> 74\u001b[0;31m             \u001b[0mbst\u001b[0m\u001b[0;34m.\u001b[0m\u001b[0mupdate\u001b[0m\u001b[0;34m(\u001b[0m\u001b[0mdtrain\u001b[0m\u001b[0;34m,\u001b[0m \u001b[0mi\u001b[0m\u001b[0;34m,\u001b[0m \u001b[0mobj\u001b[0m\u001b[0;34m)\u001b[0m\u001b[0;34m\u001b[0m\u001b[0m\n\u001b[0m\u001b[1;32m     75\u001b[0m             \u001b[0mbst\u001b[0m\u001b[0;34m.\u001b[0m\u001b[0msave_rabit_checkpoint\u001b[0m\u001b[0;34m(\u001b[0m\u001b[0;34m)\u001b[0m\u001b[0;34m\u001b[0m\u001b[0m\n\u001b[1;32m     76\u001b[0m             \u001b[0mversion\u001b[0m \u001b[0;34m+=\u001b[0m \u001b[0;36m1\u001b[0m\u001b[0;34m\u001b[0m\u001b[0m\n",
      "\u001b[0;32m/Users/brianho/xgboost/python-package/xgboost/core.pyc\u001b[0m in \u001b[0;36mupdate\u001b[0;34m(self, dtrain, iteration, fobj)\u001b[0m\n\u001b[1;32m    817\u001b[0m \u001b[0;34m\u001b[0m\u001b[0m\n\u001b[1;32m    818\u001b[0m         \u001b[0;32mif\u001b[0m \u001b[0mfobj\u001b[0m \u001b[0;32mis\u001b[0m \u001b[0mNone\u001b[0m\u001b[0;34m:\u001b[0m\u001b[0;34m\u001b[0m\u001b[0m\n\u001b[0;32m--> 819\u001b[0;31m             \u001b[0m_check_call\u001b[0m\u001b[0;34m(\u001b[0m\u001b[0m_LIB\u001b[0m\u001b[0;34m.\u001b[0m\u001b[0mXGBoosterUpdateOneIter\u001b[0m\u001b[0;34m(\u001b[0m\u001b[0mself\u001b[0m\u001b[0;34m.\u001b[0m\u001b[0mhandle\u001b[0m\u001b[0;34m,\u001b[0m \u001b[0miteration\u001b[0m\u001b[0;34m,\u001b[0m \u001b[0mdtrain\u001b[0m\u001b[0;34m.\u001b[0m\u001b[0mhandle\u001b[0m\u001b[0;34m)\u001b[0m\u001b[0;34m)\u001b[0m\u001b[0;34m\u001b[0m\u001b[0m\n\u001b[0m\u001b[1;32m    820\u001b[0m         \u001b[0;32melse\u001b[0m\u001b[0;34m:\u001b[0m\u001b[0;34m\u001b[0m\u001b[0m\n\u001b[1;32m    821\u001b[0m             \u001b[0mpred\u001b[0m \u001b[0;34m=\u001b[0m \u001b[0mself\u001b[0m\u001b[0;34m.\u001b[0m\u001b[0mpredict\u001b[0m\u001b[0;34m(\u001b[0m\u001b[0mdtrain\u001b[0m\u001b[0;34m)\u001b[0m\u001b[0;34m\u001b[0m\u001b[0m\n",
      "\u001b[0;31mKeyboardInterrupt\u001b[0m: "
     ]
    }
   ],
   "source": [
    "for train_index, test_index in kf:\n",
    "    x_train, x_test = X.iloc[train_index,:], X.iloc[test_index,:]\n",
    "    y_train, y_test = Y[train_index,], Y[test_index,]\n",
    "    \n",
    "    model = XGBClassifier()\n",
    "    model.fit(x_train, y_train)\n",
    "    \n",
    "    y_pred = model.predict(x_test)\n",
    "    predictions = [round(value) for value in y_pred]\n",
    "    \n",
    "    #evaluate predictions\n",
    "    accuracy = accuracy_score(y_test, predictions)\n",
    "    print(\"Accuracy: %.2f%%\" % (accuracy * 100.0))"
   ]
  }
 ],
 "metadata": {
  "anaconda-cloud": {},
  "kernelspec": {
   "display_name": "Python [Root]",
   "language": "python",
   "name": "Python [Root]"
  },
  "language_info": {
   "codemirror_mode": {
    "name": "ipython",
    "version": 2
   },
   "file_extension": ".py",
   "mimetype": "text/x-python",
   "name": "python",
   "nbconvert_exporter": "python",
   "pygments_lexer": "ipython2",
   "version": "2.7.12"
  }
 },
 "nbformat": 4,
 "nbformat_minor": 2
}
