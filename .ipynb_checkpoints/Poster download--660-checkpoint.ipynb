{
 "cells": [
  {
   "cell_type": "code",
   "execution_count": 5,
   "metadata": {},
   "outputs": [],
   "source": [
    "import wget\n",
    "import json\n",
    "import time\n",
    "import tmdbsimple as tmdb\n",
    "tmdb.API_KEY = 'c7b4559008a651ec1173162071aec8e0'\n",
    "from imdb import IMDb\n",
    "import requests\n",
    "import pandas as pd\n",
    "import numpy as np"
   ]
  },
  {
   "cell_type": "code",
   "execution_count": 6,
   "metadata": {
    "collapsed": true
   },
   "outputs": [],
   "source": [
    "payload = {'api_key': 'c7b4559008a651ec1173162071aec8e0'}\n",
    "r = requests.get('https://api.themoviedb.org/3/configuration?', params=payload)\n",
    "config = r.json()"
   ]
  },
  {
   "cell_type": "code",
   "execution_count": 11,
   "metadata": {},
   "outputs": [],
   "source": [
    "# load movies for analysis\n",
    "movies = pd.read_csv(\"movies990.csv\")\n",
    "\n",
    "#add row identifier (maybe unnecessary)\n",
    "movies['id'] = range(0, 990)\n",
    "\n",
    "# generate labels\n",
    "labels = np.concatenate((np.repeat(\"Romance\", 330), np.repeat(\"Horror\", 330), np.repeat(\"Scifi\", 330)), axis=0)"
   ]
  },
  {
   "cell_type": "code",
   "execution_count": 13,
   "metadata": {},
   "outputs": [
    {
     "ename": "ImportError",
     "evalue": "No module named sklearn.cross_validation",
     "output_type": "error",
     "traceback": [
      "\u001b[0;31m---------------------------------------------------------------------------\u001b[0m",
      "\u001b[0;31mImportError\u001b[0m                               Traceback (most recent call last)",
      "\u001b[0;32m<ipython-input-13-aa60cbee401b>\u001b[0m in \u001b[0;36m<module>\u001b[0;34m()\u001b[0m\n\u001b[1;32m      1\u001b[0m \u001b[0;31m#divide by train/test\u001b[0m\u001b[0;34m\u001b[0m\u001b[0;34m\u001b[0m\u001b[0m\n\u001b[0;32m----> 2\u001b[0;31m \u001b[0;32mfrom\u001b[0m \u001b[0msklearn\u001b[0m\u001b[0;34m.\u001b[0m\u001b[0mcross_validation\u001b[0m \u001b[0;32mimport\u001b[0m \u001b[0mtrain_test_split\u001b[0m\u001b[0;34m\u001b[0m\u001b[0m\n\u001b[0m\u001b[1;32m      3\u001b[0m \u001b[0;34m\u001b[0m\u001b[0m\n\u001b[1;32m      4\u001b[0m X_train, X_test, y_train, y_test = train_test_split(\n\u001b[1;32m      5\u001b[0m      movies.iloc[0:660], labels[0:660], test_size=0.40)\n",
      "\u001b[0;31mImportError\u001b[0m: No module named sklearn.cross_validation"
     ]
    }
   ],
   "source": [
    "#divide by train/test\n",
    "from sklearn.cross_validation import train_test_split\n",
    "\n",
    "X_train, X_test, y_train, y_test = train_test_split(\n",
    "     movies.iloc[0:660], labels[0:660], test_size=0.40)"
   ]
  },
  {
   "cell_type": "code",
   "execution_count": 15,
   "metadata": {
    "collapsed": true
   },
   "outputs": [],
   "source": [
    "#download posters by url, to train and validation folders (to copy tutorial)\n",
    "\n",
    "#### need to make new local folders, e.g., /train/romance, /validation/horror -- see exact syntax below\n",
    "\n",
    "for i in X_train.id:\n",
    "    poster_path = movies.poster_path[i]\n",
    "    url = \"https://image.tmdb.org/t/p/w185\"\n",
    "    url = url + poster_path\n",
    "    if i < 330:\n",
    "        wget.download(url, \"./Posters 660/Train/Romance/\" + str(i) + \".jpg\" )   #need to make this folder locally\n",
    "    if i >= 330:\n",
    "        wget.download(url, \"./Posters 660/Train/Horror/\" + str(i) + \".jpg\" )   #need to make this folder locally\n",
    "    time.sleep(1)"
   ]
  },
  {
   "cell_type": "code",
   "execution_count": 16,
   "metadata": {
    "collapsed": true
   },
   "outputs": [],
   "source": [
    "for i in X_test.id:\n",
    "    poster_path = movies.poster_path[i]\n",
    "    url = \"https://image.tmdb.org/t/p/w185\"\n",
    "    url = url + poster_path\n",
    "    if i < 330:\n",
    "        wget.download(url, \"./Posters 660/Validation/Romance/\" + str(i) + \".jpg\" )   #need to make this folder locally\n",
    "    if i >= 330:\n",
    "        wget.download(url, \"./Posters 660/Validation/Horror/\" + str(i) + \".jpg\" )   #need to make this folder locally\n",
    "    time.sleep(1)"
   ]
  }
 ],
 "metadata": {
  "anaconda-cloud": {},
  "kernelspec": {
   "display_name": "Python 2",
   "language": "python",
   "name": "python2"
  }
 },
 "nbformat": 4,
 "nbformat_minor": 1
}
