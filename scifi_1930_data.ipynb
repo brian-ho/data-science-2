{
 "cells": [
  {
   "cell_type": "code",
   "execution_count": 2,
   "metadata": {},
   "outputs": [],
   "source": [
    "import wget\n",
    "import json\n",
    "import time\n",
    "# import tmdbsimple as tmdb\n",
    "# tmdb.API_KEY = 'c7b4559008a651ec1173162071aec8e0'\n",
    "from imdb import IMDb\n",
    "import requests\n",
    "import pandas as pd\n",
    "import numpy as np"
   ]
  },
  {
   "cell_type": "code",
   "execution_count": 4,
   "metadata": {
    "collapsed": true
   },
   "outputs": [],
   "source": [
    "payload = {'api_key': 'c7b4559008a651ec1173162071aec8e0'}\n",
    "r = requests.get('https://api.themoviedb.org/3/configuration?', params=payload)\n",
    "config = r.json()"
   ]
  },
  {
   "cell_type": "code",
   "execution_count": 1,
   "metadata": {},
   "outputs": [
    {
     "ename": "NameError",
     "evalue": "name 'pd' is not defined",
     "output_type": "error",
     "traceback": [
      "\u001b[0;31m---------------------------------------------------------------------------\u001b[0m",
      "\u001b[0;31mNameError\u001b[0m                                 Traceback (most recent call last)",
      "\u001b[0;32m<ipython-input-1-55331cdf31b1>\u001b[0m in \u001b[0;36m<module>\u001b[0;34m()\u001b[0m\n\u001b[0;32m----> 1\u001b[0;31m \u001b[0mdata1930\u001b[0m \u001b[0;34m=\u001b[0m \u001b[0mpd\u001b[0m\u001b[0;34m.\u001b[0m\u001b[0mread_csv\u001b[0m\u001b[0;34m(\u001b[0m\u001b[0;34m\"movies_from_1930.csv\"\u001b[0m\u001b[0;34m)\u001b[0m\u001b[0;34m\u001b[0m\u001b[0m\n\u001b[0m\u001b[1;32m      2\u001b[0m \u001b[0;31m# data1930.info()\u001b[0m\u001b[0;34m\u001b[0m\u001b[0;34m\u001b[0m\u001b[0m\n\u001b[1;32m      3\u001b[0m \u001b[0;34m\u001b[0m\u001b[0m\n\u001b[1;32m      4\u001b[0m \u001b[0mdata1930\u001b[0m \u001b[0;34m=\u001b[0m \u001b[0mdata1930\u001b[0m\u001b[0;34m[\u001b[0m\u001b[0mdata1930\u001b[0m\u001b[0;34m[\u001b[0m\u001b[0;34m\"poster_path\"\u001b[0m\u001b[0;34m]\u001b[0m\u001b[0;34m.\u001b[0m\u001b[0mnotnull\u001b[0m\u001b[0;34m(\u001b[0m\u001b[0;34m)\u001b[0m\u001b[0;34m]\u001b[0m\u001b[0;34m\u001b[0m\u001b[0m\n\u001b[1;32m      5\u001b[0m \u001b[0mscifi_1930\u001b[0m \u001b[0;34m=\u001b[0m \u001b[0mdata1930\u001b[0m\u001b[0;34m[\u001b[0m\u001b[0mdata1930\u001b[0m\u001b[0;34m[\u001b[0m\u001b[0;34m\"genre_ids\"\u001b[0m\u001b[0;34m]\u001b[0m\u001b[0;34m.\u001b[0m\u001b[0mstr\u001b[0m\u001b[0;34m.\u001b[0m\u001b[0mcontains\u001b[0m\u001b[0;34m(\u001b[0m\u001b[0;34m\"878\"\u001b[0m\u001b[0;34m)\u001b[0m\u001b[0;34m]\u001b[0m\u001b[0;34m\u001b[0m\u001b[0m\n",
      "\u001b[0;31mNameError\u001b[0m: name 'pd' is not defined"
     ]
    }
   ],
   "source": [
    "data1930 = pd.read_csv(\"movies_from_1930.csv\")\n",
    "# data1930.info()\n",
    "\n",
    "data1930 = data1930[data1930[\"poster_path\"].notnull()]\n",
    "scifi_1930 = data1930[data1930[\"genre_ids\"].str.contains(\"878\")]\n",
    "scifi_1930[\"release_year\"] = pd.to_datetime(scifi_1930[\"release_date\"]).dt.year"
   ]
  },
  {
   "cell_type": "code",
   "execution_count": 65,
   "metadata": {},
   "outputs": [
    {
     "name": "stderr",
     "output_type": "stream",
     "text": [
      "/Applications/anaconda2/envs/tensorflow/lib/python2.7/site-packages/ipykernel_launcher.py:1: SettingWithCopyWarning: \n",
      "A value is trying to be set on a copy of a slice from a DataFrame.\n",
      "Try using .loc[row_indexer,col_indexer] = value instead\n",
      "\n",
      "See the caveats in the documentation: http://pandas.pydata.org/pandas-docs/stable/indexing.html#indexing-view-versus-copy\n",
      "  \"\"\"Entry point for launching an IPython kernel.\n"
     ]
    }
   ],
   "source": [
    "scifi_1930[\"release_decade\"] = scifi_1930[\"release_year\"].apply(lambda x: (int(x/10)*10))"
   ]
  },
  {
   "cell_type": "code",
   "execution_count": 112,
   "metadata": {},
   "outputs": [
    {
     "data": {
      "text/plain": [
       "1990    516\n",
       "1980    510\n",
       "2000    480\n",
       "1970    456\n",
       "1960    441\n",
       "2010    338\n",
       "1950    289\n",
       "Name: release_decade, dtype: int64"
      ]
     },
     "execution_count": 112,
     "metadata": {},
     "output_type": "execute_result"
    }
   ],
   "source": [
    "scifi_1930.release_decade.value_counts()"
   ]
  },
  {
   "cell_type": "code",
   "execution_count": 81,
   "metadata": {},
   "outputs": [
    {
     "ename": "AttributeError",
     "evalue": "'NoneType' object has no attribute 'index'",
     "output_type": "error",
     "traceback": [
      "\u001b[0;31m---------------------------------------------------------------------------\u001b[0m",
      "\u001b[0;31mAttributeError\u001b[0m                            Traceback (most recent call last)",
      "\u001b[0;32m<ipython-input-81-d1abea696944>\u001b[0m in \u001b[0;36m<module>\u001b[0;34m()\u001b[0m\n\u001b[0;32m----> 1\u001b[0;31m \u001b[0mscifi_1930\u001b[0m\u001b[0;34m.\u001b[0m\u001b[0mto_csv\u001b[0m\u001b[0;34m(\u001b[0m\u001b[0;34m\"scifi_1930.csv\"\u001b[0m\u001b[0;34m)\u001b[0m\u001b[0;34m.\u001b[0m\u001b[0mindex\u001b[0m\u001b[0;34m(\u001b[0m\u001b[0;34m)\u001b[0m\u001b[0;34m\u001b[0m\u001b[0m\n\u001b[0m",
      "\u001b[0;31mAttributeError\u001b[0m: 'NoneType' object has no attribute 'index'"
     ]
    }
   ],
   "source": [
    "scifi_1930.to_csv(\"scifi_1930.csv\")"
   ]
  },
  {
   "cell_type": "code",
   "execution_count": 87,
   "metadata": {
    "collapsed": true
   },
   "outputs": [],
   "source": [
    "scifi_1930 = scifi_1930.reset_index()"
   ]
  },
  {
   "cell_type": "code",
   "execution_count": 111,
   "metadata": {
    "collapsed": true
   },
   "outputs": [],
   "source": [
    "# download posters by url, to train and validation folders (to copy tutorial)\n",
    "# need to make new local folders, e.g., /train/romance, /validation/horror -- see exact syntax below\n",
    "validation_count={1950:0,\n",
    "                  1960:0,\n",
    "                  1970:0,\n",
    "                  1980:0,\n",
    "                  1990:0,\n",
    "                  2000:0,\n",
    "                  2010:0}\n",
    "    \n",
    "for i, (id_, decade) in enumerate(zip(scifi_1930.id, scifi_1930.release_decade)):\n",
    "    poster_path = scifi_1930.poster_path[i]\n",
    "    url = \"https://image.tmdb.org/t/p/w185\"\n",
    "    url = url + poster_path\n",
    "\n",
    "    if validation_count[decade] < 200:\n",
    "        local_path = \"Posters/\" + str(decade) + \"/Validation/\" + str(id_) + \".jpg\"\n",
    "    else:\n",
    "        local_path = \"Posters/\" + str(decade) + \"/Train/\" + str(id_) + \".jpg\"\n",
    "        \n",
    "    validation_count[decade] += 1\n",
    "    # print validation_count[decade]\n",
    "    wget.download(url, local_path)\n",
    "    time.sleep(0.5)"
   ]
  }
 ],
 "metadata": {
  "anaconda-cloud": {},
  "kernelspec": {
   "display_name": "Python 2",
   "language": "python",
   "name": "python2"
  },
  "language_info": {
   "codemirror_mode": {
    "name": "ipython",
    "version": 2
   },
   "file_extension": ".py",
   "mimetype": "text/x-python",
   "name": "python",
   "nbconvert_exporter": "python",
   "pygments_lexer": "ipython2",
   "version": "2.7.13"
  }
 },
 "nbformat": 4,
 "nbformat_minor": 2
}
